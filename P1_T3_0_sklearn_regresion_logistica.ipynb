{
  "nbformat": 4,
  "nbformat_minor": 0,
  "metadata": {
    "colab": {
      "name": "P1_T3_0_sklearn-regresion_logistica.ipynb",
      "provenance": [],
      "collapsed_sections": [
        "_x3G4Udjbjyl"
      ],
      "include_colab_link": true
    },
    "kernelspec": {
      "name": "python3",
      "display_name": "Python 3"
    }
  },
  "cells": [
    {
      "cell_type": "markdown",
      "metadata": {
        "id": "view-in-github",
        "colab_type": "text"
      },
      "source": [
        "<a href=\"https://colab.research.google.com/github/SergioSm12/DeepLearning/blob/main/P1_T3_0_sklearn_regresion_logistica.ipynb\" target=\"_parent\"><img src=\"https://colab.research.google.com/assets/colab-badge.svg\" alt=\"Open In Colab\"/></a>"
      ]
    },
    {
      "cell_type": "markdown",
      "metadata": {
        "id": "_x3G4Udjbjyl"
      },
      "source": [
        "# Ejercicios regresion logistica usando con sklearn\n",
        "\n",
        "---\n",
        "\n"
      ]
    },
    {
      "cell_type": "markdown",
      "metadata": {
        "id": "yFfu_JVRolh3"
      },
      "source": [
        "#Regresión logsitica con dataset  local \n",
        "---\n",
        "dataset con la cantidad de horas de estudio para un examen vs el resultado (aprobado/reprobado)\n",
        "https://github.com/luisFernandoCastellanosG/Machine_learning/blob/master/Databaset_para_trabajar_sklearn/horas_estudio_vs_aprobacion.csv\n",
        "\n",
        "\n",
        "\n"
      ]
    },
    {
      "cell_type": "markdown",
      "metadata": {
        "id": "-DUAZT3Mainp"
      },
      "source": [
        "##P1.Cargando Librerías necesarias"
      ]
    },
    {
      "cell_type": "code",
      "metadata": {
        "id": "ykWeWlx9ano0"
      },
      "source": [
        "import numpy as np              #Mejora el soporte para vectores y matrices\n",
        "import pandas as pd             #Estructura de datos (Ciencia de datos)\n",
        "\n",
        "import matplotlib.pyplot as plt #Para graficar\n",
        "import seaborn as sns           #interfaz de alto nivel para dibujar gráficos estadísticos (basada en matplotlib)\n",
        "\n",
        "#------------------\n",
        "from sklearn.model_selection import train_test_split\n",
        "from sklearn.preprocessing import StandardScaler\n",
        "import sklearn.metrics as metrics\n",
        "#clase de regresión logistica disponsible en sklearn\n",
        "from sklearn.linear_model import LogisticRegression\n",
        "#Creamos una instancia de la Regresión Logística\n",
        "regresion_logistica = LogisticRegression()"
      ],
      "execution_count": null,
      "outputs": []
    },
    {
      "cell_type": "markdown",
      "metadata": {
        "id": "UMPlGacFdyTu"
      },
      "source": [
        "\n",
        "\n",
        "```\n",
        "# Esto tiene formato de código\n",
        "```\n",
        "\n",
        "##P2. cargar el dataset desde GITHUB"
      ]
    },
    {
      "cell_type": "markdown",
      "metadata": {
        "id": "9c3WUaCriEes"
      },
      "source": [
        "Cargar el dataset en un dataframe de pandas"
      ]
    },
    {
      "cell_type": "code",
      "metadata": {
        "id": "SPwDoHFNiLDQ",
        "colab": {
          "base_uri": "https://localhost:8080/",
          "height": 363
        },
        "outputId": "60119c4d-ce4f-4abf-ae7d-dcc19fdf3803"
      },
      "source": [
        "df = pd.DataFrame()\n",
        "df = pd.read_csv(\"https://raw.githubusercontent.com/luisFernandoCastellanosG/Machine_learning/master/1-Machine_Learning_Classic/Databasets/horas_estudio_vs_aprobacion.csv\")\n",
        "df.head(10)"
      ],
      "execution_count": null,
      "outputs": [
        {
          "output_type": "execute_result",
          "data": {
            "text/html": [
              "\n",
              "  <div id=\"df-91e39e73-059d-4c6e-b868-966e15f34c75\">\n",
              "    <div class=\"colab-df-container\">\n",
              "      <div>\n",
              "<style scoped>\n",
              "    .dataframe tbody tr th:only-of-type {\n",
              "        vertical-align: middle;\n",
              "    }\n",
              "\n",
              "    .dataframe tbody tr th {\n",
              "        vertical-align: top;\n",
              "    }\n",
              "\n",
              "    .dataframe thead th {\n",
              "        text-align: right;\n",
              "    }\n",
              "</style>\n",
              "<table border=\"1\" class=\"dataframe\">\n",
              "  <thead>\n",
              "    <tr style=\"text-align: right;\">\n",
              "      <th></th>\n",
              "      <th>horas</th>\n",
              "      <th>aprueba</th>\n",
              "    </tr>\n",
              "  </thead>\n",
              "  <tbody>\n",
              "    <tr>\n",
              "      <th>0</th>\n",
              "      <td>0.50</td>\n",
              "      <td>1</td>\n",
              "    </tr>\n",
              "    <tr>\n",
              "      <th>1</th>\n",
              "      <td>2.00</td>\n",
              "      <td>0</td>\n",
              "    </tr>\n",
              "    <tr>\n",
              "      <th>2</th>\n",
              "      <td>0.75</td>\n",
              "      <td>0</td>\n",
              "    </tr>\n",
              "    <tr>\n",
              "      <th>3</th>\n",
              "      <td>2.75</td>\n",
              "      <td>1</td>\n",
              "    </tr>\n",
              "    <tr>\n",
              "      <th>4</th>\n",
              "      <td>2.75</td>\n",
              "      <td>1</td>\n",
              "    </tr>\n",
              "    <tr>\n",
              "      <th>5</th>\n",
              "      <td>1.25</td>\n",
              "      <td>0</td>\n",
              "    </tr>\n",
              "    <tr>\n",
              "      <th>6</th>\n",
              "      <td>2.75</td>\n",
              "      <td>1</td>\n",
              "    </tr>\n",
              "    <tr>\n",
              "      <th>7</th>\n",
              "      <td>1.50</td>\n",
              "      <td>1</td>\n",
              "    </tr>\n",
              "    <tr>\n",
              "      <th>8</th>\n",
              "      <td>1.50</td>\n",
              "      <td>0</td>\n",
              "    </tr>\n",
              "    <tr>\n",
              "      <th>9</th>\n",
              "      <td>0.50</td>\n",
              "      <td>0</td>\n",
              "    </tr>\n",
              "  </tbody>\n",
              "</table>\n",
              "</div>\n",
              "      <button class=\"colab-df-convert\" onclick=\"convertToInteractive('df-91e39e73-059d-4c6e-b868-966e15f34c75')\"\n",
              "              title=\"Convert this dataframe to an interactive table.\"\n",
              "              style=\"display:none;\">\n",
              "        \n",
              "  <svg xmlns=\"http://www.w3.org/2000/svg\" height=\"24px\"viewBox=\"0 0 24 24\"\n",
              "       width=\"24px\">\n",
              "    <path d=\"M0 0h24v24H0V0z\" fill=\"none\"/>\n",
              "    <path d=\"M18.56 5.44l.94 2.06.94-2.06 2.06-.94-2.06-.94-.94-2.06-.94 2.06-2.06.94zm-11 1L8.5 8.5l.94-2.06 2.06-.94-2.06-.94L8.5 2.5l-.94 2.06-2.06.94zm10 10l.94 2.06.94-2.06 2.06-.94-2.06-.94-.94-2.06-.94 2.06-2.06.94z\"/><path d=\"M17.41 7.96l-1.37-1.37c-.4-.4-.92-.59-1.43-.59-.52 0-1.04.2-1.43.59L10.3 9.45l-7.72 7.72c-.78.78-.78 2.05 0 2.83L4 21.41c.39.39.9.59 1.41.59.51 0 1.02-.2 1.41-.59l7.78-7.78 2.81-2.81c.8-.78.8-2.07 0-2.86zM5.41 20L4 18.59l7.72-7.72 1.47 1.35L5.41 20z\"/>\n",
              "  </svg>\n",
              "      </button>\n",
              "      \n",
              "  <style>\n",
              "    .colab-df-container {\n",
              "      display:flex;\n",
              "      flex-wrap:wrap;\n",
              "      gap: 12px;\n",
              "    }\n",
              "\n",
              "    .colab-df-convert {\n",
              "      background-color: #E8F0FE;\n",
              "      border: none;\n",
              "      border-radius: 50%;\n",
              "      cursor: pointer;\n",
              "      display: none;\n",
              "      fill: #1967D2;\n",
              "      height: 32px;\n",
              "      padding: 0 0 0 0;\n",
              "      width: 32px;\n",
              "    }\n",
              "\n",
              "    .colab-df-convert:hover {\n",
              "      background-color: #E2EBFA;\n",
              "      box-shadow: 0px 1px 2px rgba(60, 64, 67, 0.3), 0px 1px 3px 1px rgba(60, 64, 67, 0.15);\n",
              "      fill: #174EA6;\n",
              "    }\n",
              "\n",
              "    [theme=dark] .colab-df-convert {\n",
              "      background-color: #3B4455;\n",
              "      fill: #D2E3FC;\n",
              "    }\n",
              "\n",
              "    [theme=dark] .colab-df-convert:hover {\n",
              "      background-color: #434B5C;\n",
              "      box-shadow: 0px 1px 3px 1px rgba(0, 0, 0, 0.15);\n",
              "      filter: drop-shadow(0px 1px 2px rgba(0, 0, 0, 0.3));\n",
              "      fill: #FFFFFF;\n",
              "    }\n",
              "  </style>\n",
              "\n",
              "      <script>\n",
              "        const buttonEl =\n",
              "          document.querySelector('#df-91e39e73-059d-4c6e-b868-966e15f34c75 button.colab-df-convert');\n",
              "        buttonEl.style.display =\n",
              "          google.colab.kernel.accessAllowed ? 'block' : 'none';\n",
              "\n",
              "        async function convertToInteractive(key) {\n",
              "          const element = document.querySelector('#df-91e39e73-059d-4c6e-b868-966e15f34c75');\n",
              "          const dataTable =\n",
              "            await google.colab.kernel.invokeFunction('convertToInteractive',\n",
              "                                                     [key], {});\n",
              "          if (!dataTable) return;\n",
              "\n",
              "          const docLinkHtml = 'Like what you see? Visit the ' +\n",
              "            '<a target=\"_blank\" href=https://colab.research.google.com/notebooks/data_table.ipynb>data table notebook</a>'\n",
              "            + ' to learn more about interactive tables.';\n",
              "          element.innerHTML = '';\n",
              "          dataTable['output_type'] = 'display_data';\n",
              "          await google.colab.output.renderOutput(dataTable, element);\n",
              "          const docLink = document.createElement('div');\n",
              "          docLink.innerHTML = docLinkHtml;\n",
              "          element.appendChild(docLink);\n",
              "        }\n",
              "      </script>\n",
              "    </div>\n",
              "  </div>\n",
              "  "
            ],
            "text/plain": [
              "   horas  aprueba\n",
              "0   0.50        1\n",
              "1   2.00        0\n",
              "2   0.75        0\n",
              "3   2.75        1\n",
              "4   2.75        1\n",
              "5   1.25        0\n",
              "6   2.75        1\n",
              "7   1.50        1\n",
              "8   1.50        0\n",
              "9   0.50        0"
            ]
          },
          "metadata": {},
          "execution_count": 35
        }
      ]
    },
    {
      "cell_type": "markdown",
      "metadata": {
        "id": "7DAMNFkffUIE"
      },
      "source": [
        "##P3.Conociendo los datos que tiene el dataset"
      ]
    },
    {
      "cell_type": "code",
      "metadata": {
        "id": "HyUZsAmGfW6R",
        "colab": {
          "base_uri": "https://localhost:8080/"
        },
        "outputId": "2b3420f1-be89-42c5-dcd5-a76b9d614033"
      },
      "source": [
        "#primeros 5 regirstros del dataframe\n",
        "#df.info()\n",
        "#df.describe()\n",
        "#df.head(10)\n",
        "#dimensiones del dataframe\n",
        "df.shape"
      ],
      "execution_count": null,
      "outputs": [
        {
          "output_type": "execute_result",
          "data": {
            "text/plain": [
              "(2000, 2)"
            ]
          },
          "metadata": {},
          "execution_count": 6
        }
      ]
    },
    {
      "cell_type": "markdown",
      "metadata": {
        "id": "7Cu3-I_bxAtO"
      },
      "source": [
        "hay datos nulos?"
      ]
    },
    {
      "cell_type": "code",
      "metadata": {
        "id": "6zOKATT5xD8z",
        "colab": {
          "base_uri": "https://localhost:8080/"
        },
        "outputId": "821d8670-6c48-45cb-dd5e-22d9f9d92809"
      },
      "source": [
        "df.isnull().sum()"
      ],
      "execution_count": null,
      "outputs": [
        {
          "output_type": "execute_result",
          "data": {
            "text/plain": [
              "horas      0\n",
              "aprueba    0\n",
              "dtype: int64"
            ]
          },
          "metadata": {},
          "execution_count": 7
        }
      ]
    },
    {
      "cell_type": "code",
      "metadata": {
        "id": "stf4-FujjTlb",
        "colab": {
          "base_uri": "https://localhost:8080/",
          "height": 572
        },
        "outputId": "35779612-ece5-4c5c-d6f6-1eb4367a23f5"
      },
      "source": [
        "sns.set(rc={'figure.figsize':(11.7,8.27)})  #tamaño del grafico\n",
        "sns.distplot(df['horas'])                #agregamos los datos\n",
        "plt.show()    "
      ],
      "execution_count": null,
      "outputs": [
        {
          "output_type": "stream",
          "name": "stderr",
          "text": [
            "/usr/local/lib/python3.7/dist-packages/seaborn/distributions.py:2619: FutureWarning: `distplot` is a deprecated function and will be removed in a future version. Please adapt your code to use either `displot` (a figure-level function with similar flexibility) or `histplot` (an axes-level function for histograms).\n",
            "  warnings.warn(msg, FutureWarning)\n"
          ]
        },
        {
          "output_type": "display_data",
          "data": {
            "image/png": "[encoded data removed]",
            "text/plain": [
              "<Figure size 842.4x595.44 with 1 Axes>"
            ]
          },
          "metadata": {}
        }
      ]
    },
    {
      "cell_type": "code",
      "metadata": {
        "id": "Tls2LtXPailT",
        "colab": {
          "base_uri": "https://localhost:8080/",
          "height": 517
        },
        "outputId": "a3d3ae7f-afc7-4e2e-9bd9-1b88d44a6a6a"
      },
      "source": [
        "X = df['horas']\n",
        "y = df['aprueba']\n",
        "plt.scatter(X,y, s=15, alpha=0.5)\n",
        "plt.xlabel('horas de estudio')\n",
        "plt.ylabel('aprueba examen')\n",
        "plt.show()"
      ],
      "execution_count": null,
      "outputs": [
        {
          "output_type": "display_data",
          "data": {
            "image/png": "[encoded data removed]",
            "text/plain": [
              "<Figure size 842.4x595.44 with 1 Axes>"
            ]
          },
          "metadata": {}
        }
      ]
    },
    {
      "cell_type": "markdown",
      "metadata": {
        "id": "6PrN59nTht0_"
      },
      "source": [
        "## P4.Separando los datos para el entrenamiento\n"
      ]
    },
    {
      "cell_type": "code",
      "metadata": {
        "id": "NQx0fRWsh9up",
        "colab": {
          "base_uri": "https://localhost:8080/"
        },
        "outputId": "3d03e0d0-26cd-489f-e127-057e6b4496ac"
      },
      "source": [
        "#En X colocaremos el tiempo de estudio que tomaron los estudiantes antes del examen\n",
        "#apilamos los datos que vienen en 1d a 2d  \n",
        "#opcion 1: usamos np.c_\n",
        "#X = pd.DataFrame(np.c_[df['horas']], columns = ['horas'])\n",
        "#opcion2: usamos .reshape(-1, 1)\n",
        "X = np.array(df['horas']).reshape(-1, 1)\n",
        "#En Y colocaremos el resultado del examen (1 / 0 ) (aprobado / reprobado)\n",
        "y= np.array(df['aprueba'])\n",
        "print(X)"
      ],
      "execution_count": null,
      "outputs": [
        {
          "output_type": "stream",
          "name": "stdout",
          "text": [
            "[[0.5 ]\n",
            " [2.  ]\n",
            " [0.75]\n",
            " ...\n",
            " [2.75]\n",
            " [4.75]\n",
            " [4.  ]]\n"
          ]
        }
      ]
    },
    {
      "cell_type": "markdown",
      "metadata": {
        "id": "sQqDhGzLkbNS"
      },
      "source": [
        "##P5. Entrena la regresión logística con los datos de entrenamiento\n"
      ]
    },
    {
      "cell_type": "code",
      "metadata": {
        "id": "m4yS69KdntAd",
        "colab": {
          "base_uri": "https://localhost:8080/"
        },
        "outputId": "c2195f74-5eca-492d-8aa0-a81ab446b70d"
      },
      "source": [
        "#entrenando modelo de regresión logistica\n",
        "regresion_logistica.fit(X,y)"
      ],
      "execution_count": null,
      "outputs": [
        {
          "output_type": "execute_result",
          "data": {
            "text/plain": [
              "LogisticRegression()"
            ]
          },
          "metadata": {},
          "execution_count": 15
        }
      ]
    },
    {
      "cell_type": "markdown",
      "metadata": {
        "id": "RqQO3P3bGB1m"
      },
      "source": [
        "##P7.Haciendo predicciones\n",
        "Tomaremos una grupo de horas y miraremos que probabilidad de pasar el examen tenemos"
      ]
    },
    {
      "cell_type": "code",
      "metadata": {
        "id": "lX8s5YjkGHHD",
        "colab": {
          "base_uri": "https://localhost:8080/"
        },
        "outputId": "d187e4c4-71fa-4974-978c-39d29353bf91"
      },
      "source": [
        "#definimos que pasa si el estudiante estudia entre 1 a 6 horas\n",
        "X_nuevo = np.array([0.5, 2.7, 10, 3.5, 9, 4]).reshape(-1,1)\n",
        "#ejecutamos la predicción\n",
        "prediccion = regresion_logistica.predict(X_nuevo)\n",
        "print(prediccion)"
      ],
      "execution_count": null,
      "outputs": [
        {
          "output_type": "stream",
          "name": "stdout",
          "text": [
            "[0 0 1 0 1 1]\n"
          ]
        }
      ]
    },
    {
      "cell_type": "markdown",
      "metadata": {
        "id": "aJUgr50Q1gvr"
      },
      "source": [
        "##P8. Generando probabilidades de la predicción"
      ]
    },
    {
      "cell_type": "code",
      "metadata": {
        "id": "ha-ABON01pJr",
        "colab": {
          "base_uri": "https://localhost:8080/"
        },
        "outputId": "2455163c-2f9d-4a23-99fb-8d8ca647fbe0"
      },
      "source": [
        "probabilidades_prediccion = regresion_logistica.predict_proba(X_nuevo)\n",
        "#la primera columna es la probabilidad de reprobar (0)\n",
        "#la segunda columna es  la probabilidad de aprobar (1)\n",
        "print(probabilidades_prediccion)\n",
        "#si solo nos interesa la probabilidad de aprobar\n",
        "print(probabilidades_prediccion[:,1])"
      ],
      "execution_count": null,
      "outputs": [
        {
          "output_type": "stream",
          "name": "stdout",
          "text": [
            "[[0.51339844 0.48660156]\n",
            " [0.50377144 0.49622856]\n",
            " [0.47184678 0.52815322]\n",
            " [0.50026965 0.49973035]\n",
            " [0.47621227 0.52378773]\n",
            " [0.49808099 0.50191901]]\n",
            "[0.48660156 0.49622856 0.52815322 0.49973035 0.52378773 0.50191901]\n"
          ]
        }
      ]
    },
    {
      "cell_type": "markdown",
      "metadata": {
        "id": "5gNZ2Dx87sv_"
      },
      "source": [
        "#El Mismo estudio pero teniendo en cuenta horas de tutorias\n",
        "\n",
        "---\n",
        "\n",
        "Vuelven a hacer otro estudio y adicionan las horas de tutoría que toma cada estudiante en el mes, con ello quieren predecir que probabilidades tiene de pasar el examen"
      ]
    },
    {
      "cell_type": "markdown",
      "metadata": {
        "id": "g-Hcgoyc8T-w"
      },
      "source": [
        "##P1.Cargando Librerías necesarias"
      ]
    },
    {
      "cell_type": "code",
      "metadata": {
        "id": "s3XuYxx-8WtX"
      },
      "source": [
        "import pandas as pd\n",
        "import numpy as np\n",
        "\n",
        "import seaborn as sns\n",
        "import matplotlib.pyplot as plt\n",
        "#-------------------------------\n",
        "from sklearn import metrics \n",
        "from sklearn.linear_model import LogisticRegression\n",
        "from sklearn.model_selection import train_test_split"
      ],
      "execution_count": null,
      "outputs": []
    },
    {
      "cell_type": "markdown",
      "metadata": {
        "id": "m7jIuLB88dLl"
      },
      "source": [
        "##P2. usar el dataset publicado en GITHUB"
      ]
    },
    {
      "cell_type": "code",
      "metadata": {
        "id": "cnOhM6Jd81YN"
      },
      "source": [
        "df = pd.DataFrame()\n",
        "df = pd.read_csv(\"https://raw.githubusercontent.com/luisFernandoCastellanosG/Machine_learning/master/1-Machine_Learning_Classic/Databasets/horas_estudio_tutorias_vs_aprobacion.csv\", encoding='utf-8')"
      ],
      "execution_count": null,
      "outputs": []
    },
    {
      "cell_type": "markdown",
      "metadata": {
        "id": "h4o5zW7hFgb5"
      },
      "source": [
        "##P3. Conociendo los datos"
      ]
    },
    {
      "cell_type": "code",
      "metadata": {
        "id": "QtFdMKi7Fmla",
        "colab": {
          "base_uri": "https://localhost:8080/",
          "height": 206
        },
        "outputId": "5d610e19-768c-4eef-f70b-e79c3cf347ee"
      },
      "source": [
        "#primeros 5 registros del dataframe\n",
        "df.head()"
      ],
      "execution_count": null,
      "outputs": [
        {
          "output_type": "execute_result",
          "data": {
            "text/html": [
              "\n",
              "  <div id=\"df-7d5a3bb8-d787-4b2e-953d-2656518ac69f\">\n",
              "    <div class=\"colab-df-container\">\n",
              "      <div>\n",
              "<style scoped>\n",
              "    .dataframe tbody tr th:only-of-type {\n",
              "        vertical-align: middle;\n",
              "    }\n",
              "\n",
              "    .dataframe tbody tr th {\n",
              "        vertical-align: top;\n",
              "    }\n",
              "\n",
              "    .dataframe thead th {\n",
              "        text-align: right;\n",
              "    }\n",
              "</style>\n",
              "<table border=\"1\" class=\"dataframe\">\n",
              "  <thead>\n",
              "    <tr style=\"text-align: right;\">\n",
              "      <th></th>\n",
              "      <th>horas_autoestudio_diario</th>\n",
              "      <th>tutorias_mes</th>\n",
              "      <th>aprobo_perdio</th>\n",
              "    </tr>\n",
              "  </thead>\n",
              "  <tbody>\n",
              "    <tr>\n",
              "      <th>0</th>\n",
              "      <td>7</td>\n",
              "      <td>27</td>\n",
              "      <td>1</td>\n",
              "    </tr>\n",
              "    <tr>\n",
              "      <th>1</th>\n",
              "      <td>2</td>\n",
              "      <td>43</td>\n",
              "      <td>0</td>\n",
              "    </tr>\n",
              "    <tr>\n",
              "      <th>2</th>\n",
              "      <td>7</td>\n",
              "      <td>26</td>\n",
              "      <td>1</td>\n",
              "    </tr>\n",
              "    <tr>\n",
              "      <th>3</th>\n",
              "      <td>8</td>\n",
              "      <td>29</td>\n",
              "      <td>1</td>\n",
              "    </tr>\n",
              "    <tr>\n",
              "      <th>4</th>\n",
              "      <td>3</td>\n",
              "      <td>42</td>\n",
              "      <td>0</td>\n",
              "    </tr>\n",
              "  </tbody>\n",
              "</table>\n",
              "</div>\n",
              "      <button class=\"colab-df-convert\" onclick=\"convertToInteractive('df-7d5a3bb8-d787-4b2e-953d-2656518ac69f')\"\n",
              "              title=\"Convert this dataframe to an interactive table.\"\n",
              "              style=\"display:none;\">\n",
              "        \n",
              "  <svg xmlns=\"http://www.w3.org/2000/svg\" height=\"24px\"viewBox=\"0 0 24 24\"\n",
              "       width=\"24px\">\n",
              "    <path d=\"M0 0h24v24H0V0z\" fill=\"none\"/>\n",
              "    <path d=\"M18.56 5.44l.94 2.06.94-2.06 2.06-.94-2.06-.94-.94-2.06-.94 2.06-2.06.94zm-11 1L8.5 8.5l.94-2.06 2.06-.94-2.06-.94L8.5 2.5l-.94 2.06-2.06.94zm10 10l.94 2.06.94-2.06 2.06-.94-2.06-.94-.94-2.06-.94 2.06-2.06.94z\"/><path d=\"M17.41 7.96l-1.37-1.37c-.4-.4-.92-.59-1.43-.59-.52 0-1.04.2-1.43.59L10.3 9.45l-7.72 7.72c-.78.78-.78 2.05 0 2.83L4 21.41c.39.39.9.59 1.41.59.51 0 1.02-.2 1.41-.59l7.78-7.78 2.81-2.81c.8-.78.8-2.07 0-2.86zM5.41 20L4 18.59l7.72-7.72 1.47 1.35L5.41 20z\"/>\n",
              "  </svg>\n",
              "      </button>\n",
              "      \n",
              "  <style>\n",
              "    .colab-df-container {\n",
              "      display:flex;\n",
              "      flex-wrap:wrap;\n",
              "      gap: 12px;\n",
              "    }\n",
              "\n",
              "    .colab-df-convert {\n",
              "      background-color: #E8F0FE;\n",
              "      border: none;\n",
              "      border-radius: 50%;\n",
              "      cursor: pointer;\n",
              "      display: none;\n",
              "      fill: #1967D2;\n",
              "      height: 32px;\n",
              "      padding: 0 0 0 0;\n",
              "      width: 32px;\n",
              "    }\n",
              "\n",
              "    .colab-df-convert:hover {\n",
              "      background-color: #E2EBFA;\n",
              "      box-shadow: 0px 1px 2px rgba(60, 64, 67, 0.3), 0px 1px 3px 1px rgba(60, 64, 67, 0.15);\n",
              "      fill: #174EA6;\n",
              "    }\n",
              "\n",
              "    [theme=dark] .colab-df-convert {\n",
              "      background-color: #3B4455;\n",
              "      fill: #D2E3FC;\n",
              "    }\n",
              "\n",
              "    [theme=dark] .colab-df-convert:hover {\n",
              "      background-color: #434B5C;\n",
              "      box-shadow: 0px 1px 3px 1px rgba(0, 0, 0, 0.15);\n",
              "      filter: drop-shadow(0px 1px 2px rgba(0, 0, 0, 0.3));\n",
              "      fill: #FFFFFF;\n",
              "    }\n",
              "  </style>\n",
              "\n",
              "      <script>\n",
              "        const buttonEl =\n",
              "          document.querySelector('#df-7d5a3bb8-d787-4b2e-953d-2656518ac69f button.colab-df-convert');\n",
              "        buttonEl.style.display =\n",
              "          google.colab.kernel.accessAllowed ? 'block' : 'none';\n",
              "\n",
              "        async function convertToInteractive(key) {\n",
              "          const element = document.querySelector('#df-7d5a3bb8-d787-4b2e-953d-2656518ac69f');\n",
              "          const dataTable =\n",
              "            await google.colab.kernel.invokeFunction('convertToInteractive',\n",
              "                                                     [key], {});\n",
              "          if (!dataTable) return;\n",
              "\n",
              "          const docLinkHtml = 'Like what you see? Visit the ' +\n",
              "            '<a target=\"_blank\" href=https://colab.research.google.com/notebooks/data_table.ipynb>data table notebook</a>'\n",
              "            + ' to learn more about interactive tables.';\n",
              "          element.innerHTML = '';\n",
              "          dataTable['output_type'] = 'display_data';\n",
              "          await google.colab.output.renderOutput(dataTable, element);\n",
              "          const docLink = document.createElement('div');\n",
              "          docLink.innerHTML = docLinkHtml;\n",
              "          element.appendChild(docLink);\n",
              "        }\n",
              "      </script>\n",
              "    </div>\n",
              "  </div>\n",
              "  "
            ],
            "text/plain": [
              "   horas_autoestudio_diario  tutorias_mes  aprobo_perdio\n",
              "0                         7            27              1\n",
              "1                         2            43              0\n",
              "2                         7            26              1\n",
              "3                         8            29              1\n",
              "4                         3            42              0"
            ]
          },
          "metadata": {},
          "execution_count": 24
        }
      ]
    },
    {
      "cell_type": "code",
      "metadata": {
        "id": "0MfV58lcHDDq",
        "colab": {
          "base_uri": "https://localhost:8080/"
        },
        "outputId": "7207c862-b386-4724-b435-0b4977ebee60"
      },
      "source": [
        "#dimensiones del dataframe\n",
        "print(\"matrix df [MxN] ->\"+str(df.shape))\n",
        "#verificamos que no hayan nulos\n",
        "print(\"---Columnas con valores nulos--\")\n",
        "print(df.isnull().sum())"
      ],
      "execution_count": null,
      "outputs": [
        {
          "output_type": "stream",
          "name": "stdout",
          "text": [
            "matrix df [MxN] ->(2000, 2)\n",
            "---Columnas con valores nulos--\n",
            "horas      0\n",
            "aprueba    0\n",
            "dtype: int64\n"
          ]
        }
      ]
    },
    {
      "cell_type": "code",
      "metadata": {
        "id": "NjDtZd7LI6qF",
        "colab": {
          "base_uri": "https://localhost:8080/",
          "height": 502
        },
        "outputId": "0b0b346d-cb54-4fd0-e6f0-9014bd084ec0"
      },
      "source": [
        "sns.set(rc={'figure.figsize':(11.7,8.27)})  #tamaño del grafico\n",
        "sns.distplot(df['tutorias_mes'])                #agregamos los datos\n",
        "plt.show()    "
      ],
      "execution_count": null,
      "outputs": [
        {
          "output_type": "error",
          "ename": "KeyError",
          "evalue": "ignored",
          "traceback": [
            "\u001b[0;31m---------------------------------------------------------------------------\u001b[0m",
            "\u001b[0;31mKeyError\u001b[0m                                  Traceback (most recent call last)",
            "\u001b[0;32m/usr/local/lib/python3.7/dist-packages/pandas/core/indexes/base.py\u001b[0m in \u001b[0;36mget_loc\u001b[0;34m(self, key, method, tolerance)\u001b[0m\n\u001b[1;32m   3360\u001b[0m             \u001b[0;32mtry\u001b[0m\u001b[0;34m:\u001b[0m\u001b[0;34m\u001b[0m\u001b[0;34m\u001b[0m\u001b[0m\n\u001b[0;32m-> 3361\u001b[0;31m                 \u001b[0;32mreturn\u001b[0m \u001b[0mself\u001b[0m\u001b[0;34m.\u001b[0m\u001b[0m_engine\u001b[0m\u001b[0;34m.\u001b[0m\u001b[0mget_loc\u001b[0m\u001b[0;34m(\u001b[0m\u001b[0mcasted_key\u001b[0m\u001b[0;34m)\u001b[0m\u001b[0;34m\u001b[0m\u001b[0;34m\u001b[0m\u001b[0m\n\u001b[0m\u001b[1;32m   3362\u001b[0m             \u001b[0;32mexcept\u001b[0m \u001b[0mKeyError\u001b[0m \u001b[0;32mas\u001b[0m \u001b[0merr\u001b[0m\u001b[0;34m:\u001b[0m\u001b[0;34m\u001b[0m\u001b[0;34m\u001b[0m\u001b[0m\n",
            "\u001b[0;32m/usr/local/lib/python3.7/dist-packages/pandas/_libs/index.pyx\u001b[0m in \u001b[0;36mpandas._libs.index.IndexEngine.get_loc\u001b[0;34m()\u001b[0m\n",
            "\u001b[0;32m/usr/local/lib/python3.7/dist-packages/pandas/_libs/index.pyx\u001b[0m in \u001b[0;36mpandas._libs.index.IndexEngine.get_loc\u001b[0;34m()\u001b[0m\n",
            "\u001b[0;32mpandas/_libs/hashtable_class_helper.pxi\u001b[0m in \u001b[0;36mpandas._libs.hashtable.PyObjectHashTable.get_item\u001b[0;34m()\u001b[0m\n",
            "\u001b[0;32mpandas/_libs/hashtable_class_helper.pxi\u001b[0m in \u001b[0;36mpandas._libs.hashtable.PyObjectHashTable.get_item\u001b[0;34m()\u001b[0m\n",
            "\u001b[0;31mKeyError\u001b[0m: 'tutorias_mes'",
            "\nThe above exception was the direct cause of the following exception:\n",
            "\u001b[0;31mKeyError\u001b[0m                                  Traceback (most recent call last)",
            "\u001b[0;32m<ipython-input-39-ec3ea21f72b2>\u001b[0m in \u001b[0;36m<module>\u001b[0;34m()\u001b[0m\n\u001b[1;32m      1\u001b[0m \u001b[0msns\u001b[0m\u001b[0;34m.\u001b[0m\u001b[0mset\u001b[0m\u001b[0;34m(\u001b[0m\u001b[0mrc\u001b[0m\u001b[0;34m=\u001b[0m\u001b[0;34m{\u001b[0m\u001b[0;34m'figure.figsize'\u001b[0m\u001b[0;34m:\u001b[0m\u001b[0;34m(\u001b[0m\u001b[0;36m11.7\u001b[0m\u001b[0;34m,\u001b[0m\u001b[0;36m8.27\u001b[0m\u001b[0;34m)\u001b[0m\u001b[0;34m}\u001b[0m\u001b[0;34m)\u001b[0m  \u001b[0;31m#tamaño del grafico\u001b[0m\u001b[0;34m\u001b[0m\u001b[0;34m\u001b[0m\u001b[0m\n\u001b[0;32m----> 2\u001b[0;31m \u001b[0msns\u001b[0m\u001b[0;34m.\u001b[0m\u001b[0mdistplot\u001b[0m\u001b[0;34m(\u001b[0m\u001b[0mdf\u001b[0m\u001b[0;34m[\u001b[0m\u001b[0;34m'tutorias_mes'\u001b[0m\u001b[0;34m]\u001b[0m\u001b[0;34m)\u001b[0m                \u001b[0;31m#agregamos los datos\u001b[0m\u001b[0;34m\u001b[0m\u001b[0;34m\u001b[0m\u001b[0m\n\u001b[0m\u001b[1;32m      3\u001b[0m \u001b[0mplt\u001b[0m\u001b[0;34m.\u001b[0m\u001b[0mshow\u001b[0m\u001b[0;34m(\u001b[0m\u001b[0;34m)\u001b[0m\u001b[0;34m\u001b[0m\u001b[0;34m\u001b[0m\u001b[0m\n",
            "\u001b[0;32m/usr/local/lib/python3.7/dist-packages/pandas/core/frame.py\u001b[0m in \u001b[0;36m__getitem__\u001b[0;34m(self, key)\u001b[0m\n\u001b[1;32m   3456\u001b[0m             \u001b[0;32mif\u001b[0m \u001b[0mself\u001b[0m\u001b[0;34m.\u001b[0m\u001b[0mcolumns\u001b[0m\u001b[0;34m.\u001b[0m\u001b[0mnlevels\u001b[0m \u001b[0;34m>\u001b[0m \u001b[0;36m1\u001b[0m\u001b[0;34m:\u001b[0m\u001b[0;34m\u001b[0m\u001b[0;34m\u001b[0m\u001b[0m\n\u001b[1;32m   3457\u001b[0m                 \u001b[0;32mreturn\u001b[0m \u001b[0mself\u001b[0m\u001b[0;34m.\u001b[0m\u001b[0m_getitem_multilevel\u001b[0m\u001b[0;34m(\u001b[0m\u001b[0mkey\u001b[0m\u001b[0;34m)\u001b[0m\u001b[0;34m\u001b[0m\u001b[0;34m\u001b[0m\u001b[0m\n\u001b[0;32m-> 3458\u001b[0;31m             \u001b[0mindexer\u001b[0m \u001b[0;34m=\u001b[0m \u001b[0mself\u001b[0m\u001b[0;34m.\u001b[0m\u001b[0mcolumns\u001b[0m\u001b[0;34m.\u001b[0m\u001b[0mget_loc\u001b[0m\u001b[0;34m(\u001b[0m\u001b[0mkey\u001b[0m\u001b[0;34m)\u001b[0m\u001b[0;34m\u001b[0m\u001b[0;34m\u001b[0m\u001b[0m\n\u001b[0m\u001b[1;32m   3459\u001b[0m             \u001b[0;32mif\u001b[0m \u001b[0mis_integer\u001b[0m\u001b[0;34m(\u001b[0m\u001b[0mindexer\u001b[0m\u001b[0;34m)\u001b[0m\u001b[0;34m:\u001b[0m\u001b[0;34m\u001b[0m\u001b[0;34m\u001b[0m\u001b[0m\n\u001b[1;32m   3460\u001b[0m                 \u001b[0mindexer\u001b[0m \u001b[0;34m=\u001b[0m \u001b[0;34m[\u001b[0m\u001b[0mindexer\u001b[0m\u001b[0;34m]\u001b[0m\u001b[0;34m\u001b[0m\u001b[0;34m\u001b[0m\u001b[0m\n",
            "\u001b[0;32m/usr/local/lib/python3.7/dist-packages/pandas/core/indexes/base.py\u001b[0m in \u001b[0;36mget_loc\u001b[0;34m(self, key, method, tolerance)\u001b[0m\n\u001b[1;32m   3361\u001b[0m                 \u001b[0;32mreturn\u001b[0m \u001b[0mself\u001b[0m\u001b[0;34m.\u001b[0m\u001b[0m_engine\u001b[0m\u001b[0;34m.\u001b[0m\u001b[0mget_loc\u001b[0m\u001b[0;34m(\u001b[0m\u001b[0mcasted_key\u001b[0m\u001b[0;34m)\u001b[0m\u001b[0;34m\u001b[0m\u001b[0;34m\u001b[0m\u001b[0m\n\u001b[1;32m   3362\u001b[0m             \u001b[0;32mexcept\u001b[0m \u001b[0mKeyError\u001b[0m \u001b[0;32mas\u001b[0m \u001b[0merr\u001b[0m\u001b[0;34m:\u001b[0m\u001b[0;34m\u001b[0m\u001b[0;34m\u001b[0m\u001b[0m\n\u001b[0;32m-> 3363\u001b[0;31m                 \u001b[0;32mraise\u001b[0m \u001b[0mKeyError\u001b[0m\u001b[0;34m(\u001b[0m\u001b[0mkey\u001b[0m\u001b[0;34m)\u001b[0m \u001b[0;32mfrom\u001b[0m \u001b[0merr\u001b[0m\u001b[0;34m\u001b[0m\u001b[0;34m\u001b[0m\u001b[0m\n\u001b[0m\u001b[1;32m   3364\u001b[0m \u001b[0;34m\u001b[0m\u001b[0m\n\u001b[1;32m   3365\u001b[0m         \u001b[0;32mif\u001b[0m \u001b[0mis_scalar\u001b[0m\u001b[0;34m(\u001b[0m\u001b[0mkey\u001b[0m\u001b[0;34m)\u001b[0m \u001b[0;32mand\u001b[0m \u001b[0misna\u001b[0m\u001b[0;34m(\u001b[0m\u001b[0mkey\u001b[0m\u001b[0;34m)\u001b[0m \u001b[0;32mand\u001b[0m \u001b[0;32mnot\u001b[0m \u001b[0mself\u001b[0m\u001b[0;34m.\u001b[0m\u001b[0mhasnans\u001b[0m\u001b[0;34m:\u001b[0m\u001b[0;34m\u001b[0m\u001b[0;34m\u001b[0m\u001b[0m\n",
            "\u001b[0;31mKeyError\u001b[0m: 'tutorias_mes'"
          ]
        }
      ]
    },
    {
      "cell_type": "markdown",
      "metadata": {
        "id": "P_ql8sRWJz-G"
      },
      "source": [
        "##P4.Separando los datos para el entrenamiento\n",
        "\n",
        "---\n",
        "\n",
        "separaremos las características y etiquetamos como **X** e **Y** respectivamente. \n",
        "\n",
        "\n",
        "*   la variable X (horas_autoestudio_diario +\ttutorias_mes)\n",
        "*   la varible Y (aprobo_perdio)"
      ]
    },
    {
      "cell_type": "code",
      "metadata": {
        "id": "YqgQKy5-LyRI"
      },
      "source": [
        "# eliminar la columna \"aprobo_perdio\" del dataframe\n",
        "x = df.drop('aprobo_perdio',axis = 1)\n",
        "y = df.aprobo_perdio"
      ],
      "execution_count": null,
      "outputs": []
    },
    {
      "cell_type": "markdown",
      "metadata": {
        "id": "HNWzxKUbNO5H"
      },
      "source": [
        "Dividiremos los datos en conjuntos de **train** y **test**. Esto separará 25%(! valor predeterminado) de los datos en un subconjunto para la parte de prueba y el 75% restante se usará para nuestro subconjunto de entrenamiento."
      ]
    },
    {
      "cell_type": "code",
      "metadata": {
        "id": "FRVNmzqXNhH1"
      },
      "source": [
        "#separamos los datos 25%(test) y 75%(train)\n",
        "#x_train, x_test, y_train, y_test = train_test_split(x, y, random_state=4)\n",
        "#Si deseamos cambiar la proporción solo debemos agregar la variable test_size=0.x \n",
        "x_train, x_test, y_train, y_test = train_test_split(x, y, random_state=4,test_size=0.3)"
      ],
      "execution_count": null,
      "outputs": []
    },
    {
      "cell_type": "markdown",
      "metadata": {
        "id": "4DrmWa83PA4C"
      },
      "source": [
        "##P5. importamos la clase LogisticRegresion de scikit-learn"
      ]
    },
    {
      "cell_type": "code",
      "metadata": {
        "id": "n_GnjmMfPFi7"
      },
      "source": [
        "#Creamos una instancia de la Regresión Logística\n",
        "regresion_logistica = LogisticRegression()"
      ],
      "execution_count": null,
      "outputs": []
    },
    {
      "cell_type": "markdown",
      "metadata": {
        "id": "rKHj3OVuPTH0"
      },
      "source": [
        "##P6. Entrena la regresión logística con los datos de entrenamiento"
      ]
    },
    {
      "cell_type": "code",
      "metadata": {
        "id": "GxA51C6gPZg4",
        "colab": {
          "base_uri": "https://localhost:8080/"
        },
        "outputId": "d8b15012-e87e-4a06-8945-6539a3ed06a3"
      },
      "source": [
        "#entrenando modelo de regresión logistica\n",
        "regresion_logistica.fit(x,y)"
      ],
      "execution_count": null,
      "outputs": [
        {
          "output_type": "execute_result",
          "data": {
            "text/plain": [
              "LogisticRegression()"
            ]
          },
          "metadata": {},
          "execution_count": 28
        }
      ]
    },
    {
      "cell_type": "markdown",
      "metadata": {
        "id": "TEiOye6BPlA2"
      },
      "source": [
        "##P7.Haciendo predicciones"
      ]
    },
    {
      "cell_type": "code",
      "metadata": {
        "id": "pS-9ReM1PmJp"
      },
      "source": [
        "#usaremos el 20% de los datos para probar el modelo\n",
        "#ejecutamos la predicción con datos de prueba (x_test)\n",
        "y_prediccion = regresion_logistica.predict(x_test)"
      ],
      "execution_count": null,
      "outputs": []
    },
    {
      "cell_type": "markdown",
      "metadata": {
        "id": "RdIkPLIfSeEO"
      },
      "source": [
        "##P8. Generando probabilidades de la predicción"
      ]
    },
    {
      "cell_type": "code",
      "metadata": {
        "id": "mXks-AGRSjyF",
        "colab": {
          "base_uri": "https://localhost:8080/"
        },
        "outputId": "1f361490-e70d-4fe9-d480-7eb427985c4e"
      },
      "source": [
        "#comparamos los datos de predicción (y_prediccion) VS los datos de prueba (y_test)\n",
        "exactitud = metrics.accuracy_score(y_test, y_prediccion)\n",
        "print(\"exactitud_percentaje= \"+str(100 * exactitud))"
      ],
      "execution_count": null,
      "outputs": [
        {
          "output_type": "stream",
          "name": "stdout",
          "text": [
            "exactitud_percentaje= 97.66666666666667\n"
          ]
        }
      ]
    },
    {
      "cell_type": "markdown",
      "metadata": {
        "id": "es29DkzHW7qP"
      },
      "source": [
        "probemos con datos manuales para probar el modelo"
      ]
    },
    {
      "cell_type": "code",
      "metadata": {
        "id": "ENUrxs2lXEj9",
        "colab": {
          "base_uri": "https://localhost:8080/"
        },
        "outputId": "6e47ef2f-4e5b-4796-beee-de757fa41e6c"
      },
      "source": [
        "#hagamos prediccion con datos manuales: \n",
        "#              [horas_estudio , horas_tutoria]\n",
        "#1-estudiante: [ 4            , 38 ]\n",
        "#2-estudiante: [ 8            , 29 ]\n",
        "#3-estudiante: [ 1            , 1  ]\n",
        "alumnos=np.array([[0, 0], [1, 1], [2, 2],[5, 2],[10 ,20]])\n",
        "x_nuevo = pd.DataFrame(alumnos,columns = ['horas_autoestudio_diario','tutorias_mes'])\n",
        "y_prediccion = regresion_logistica.predict(x_nuevo)\n",
        "print(y_prediccion)"
      ],
      "execution_count": null,
      "outputs": [
        {
          "output_type": "stream",
          "name": "stdout",
          "text": [
            "[1 1 1 1 1]\n"
          ]
        }
      ]
    }
  ]
}