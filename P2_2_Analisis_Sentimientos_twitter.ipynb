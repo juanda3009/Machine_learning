{
  "nbformat": 4,
  "nbformat_minor": 0,
  "metadata": {
    "colab": {
      "name": "P2_2_Analisis_Sentimientos_twitter.ipynb",
      "provenance": [],
      "collapsed_sections": [
        "dyqlGEY66xlR"
      ],
      "include_colab_link": true
    },
    "kernelspec": {
      "name": "python3",
      "display_name": "Python 3"
    },
    "language_info": {
      "name": "python"
    }
  },
  "cells": [
    {
      "cell_type": "markdown",
      "metadata": {
        "id": "view-in-github",
        "colab_type": "text"
      },
      "source": [
        "<a href=\"https://colab.research.google.com/github/juanda3009/Machine_learning/blob/main/P2_2_Analisis_Sentimientos_twitter.ipynb\" target=\"_parent\"><img src=\"https://colab.research.google.com/assets/colab-badge.svg\" alt=\"Open In Colab\"/></a>"
      ]
    },
    {
      "cell_type": "markdown",
      "source": [
        "# Analisis de Sentimientos\n",
        "\n",
        "\n",
        "\n",
        "*   @Author : Juan David Duarte Hernandez\n",
        "*   @Date : 2022/05/21\n",
        "*   @Description : Sentiment analysis\n",
        "\n"
      ],
      "metadata": {
        "id": "7hSuLBUcWea8"
      }
    },
    {
      "cell_type": "markdown",
      "source": [
        "#¿Se puede predecir la depresión?\n",
        "\n",
        "¡Descubrir si una persona está deprimida por el uso de palabras en las redes sociales definitivamente puede ayudar en la cura!"
      ],
      "metadata": {
        "id": "JqKF6SQM9xxQ"
      }
    },
    {
      "cell_type": "markdown",
      "source": [
        "#Análisis Sentimental"
      ],
      "metadata": {
        "id": "2uU1X3kHmEDs"
      }
    },
    {
      "cell_type": "markdown",
      "source": [
        "#Machine Learning classic (LogisticRegression)"
      ],
      "metadata": {
        "id": "iyUHfnZl96-y"
      }
    },
    {
      "cell_type": "code",
      "source": [
        "import matplotlib.pyplot as plt\n",
        "%matplotlib inline"
      ],
      "metadata": {
        "id": "wRjyDzhmmHYp"
      },
      "execution_count": null,
      "outputs": []
    },
    {
      "cell_type": "markdown",
      "source": [
        "##P0.descargando librerias\n",
        "\n",
        "---\n",
        "*   https://stackabuse.com/python-for-nlp-introduction-to-the-pattern-library/\n",
        "\n",
        "\n"
      ],
      "metadata": {
        "id": "A59i_bDf6ZZd"
      }
    },
    {
      "cell_type": "code",
      "execution_count": null,
      "metadata": {
        "id": "sRK86J_QHkzD",
        "colab": {
          "base_uri": "https://localhost:8080/"
        },
        "outputId": "86cd845b-2225-4c75-840b-56d280005f75"
      },
      "outputs": [
        {
          "output_type": "stream",
          "name": "stdout",
          "text": [
            "Collecting pyprind\n",
            "  Downloading PyPrind-2.11.3-py2.py3-none-any.whl (8.4 kB)\n",
            "Installing collected packages: pyprind\n",
            "Successfully installed pyprind-2.11.3\n"
          ]
        }
      ],
      "source": [
        "!pip install pyprind"
      ]
    },
    {
      "cell_type": "code",
      "source": [
        "import nltk\n",
        "nltk.download('stopwords') #Descargamos la lista de StopWord (pronombres, artículos, condicionales, demostrativos, adverbios de tiempo y lugar)"
      ],
      "metadata": {
        "colab": {
          "base_uri": "https://localhost:8080/"
        },
        "id": "QDBYoj1VJyv3",
        "outputId": "93e79cc6-7f66-4a28-8d42-6d3b3e20a99e"
      },
      "execution_count": null,
      "outputs": [
        {
          "output_type": "stream",
          "name": "stdout",
          "text": [
            "[nltk_data] Downloading package stopwords to /root/nltk_data...\n",
            "[nltk_data]   Unzipping corpora/stopwords.zip.\n"
          ]
        },
        {
          "output_type": "execute_result",
          "data": {
            "text/plain": [
              "True"
            ]
          },
          "metadata": {},
          "execution_count": 3
        }
      ]
    },
    {
      "cell_type": "code",
      "source": [
        "!pip install pattern  #libreria para PLN (Tokenización, derivación, etiquetado de POS, análisis de sentimientos, etc)"
      ],
      "metadata": {
        "id": "N4qcFCDTID7B",
        "colab": {
          "base_uri": "https://localhost:8080/"
        },
        "outputId": "6f2ac752-b5d6-4431-901f-339a247d52f4"
      },
      "execution_count": null,
      "outputs": [
        {
          "output_type": "stream",
          "name": "stdout",
          "text": [
            "Collecting pattern\n",
            "  Downloading Pattern-3.6.0.tar.gz (22.2 MB)\n",
            "\u001b[K     |████████████████████████████████| 22.2 MB 83.9 MB/s \n",
            "\u001b[?25hRequirement already satisfied: future in /usr/local/lib/python3.7/dist-packages (from pattern) (0.16.0)\n",
            "Collecting backports.csv\n",
            "  Downloading backports.csv-1.0.7-py2.py3-none-any.whl (12 kB)\n",
            "Collecting mysqlclient\n",
            "  Downloading mysqlclient-2.1.0.tar.gz (87 kB)\n",
            "\u001b[K     |████████████████████████████████| 87 kB 6.1 MB/s \n",
            "\u001b[?25hRequirement already satisfied: beautifulsoup4 in /usr/local/lib/python3.7/dist-packages (from pattern) (4.6.3)\n",
            "Requirement already satisfied: lxml in /usr/local/lib/python3.7/dist-packages (from pattern) (4.2.6)\n",
            "Collecting feedparser\n",
            "  Downloading feedparser-6.0.10-py3-none-any.whl (81 kB)\n",
            "\u001b[K     |████████████████████████████████| 81 kB 8.6 MB/s \n",
            "\u001b[?25hCollecting pdfminer.six\n",
            "  Downloading pdfminer.six-20220506-py3-none-any.whl (5.6 MB)\n",
            "\u001b[K     |████████████████████████████████| 5.6 MB 34.2 MB/s \n",
            "\u001b[?25hRequirement already satisfied: numpy in /usr/local/lib/python3.7/dist-packages (from pattern) (1.21.6)\n",
            "Requirement already satisfied: scipy in /usr/local/lib/python3.7/dist-packages (from pattern) (1.4.1)\n",
            "Requirement already satisfied: nltk in /usr/local/lib/python3.7/dist-packages (from pattern) (3.2.5)\n",
            "Collecting python-docx\n",
            "  Downloading python-docx-0.8.11.tar.gz (5.6 MB)\n",
            "\u001b[K     |████████████████████████████████| 5.6 MB 12.2 MB/s \n",
            "\u001b[?25hCollecting cherrypy\n",
            "  Downloading CherryPy-18.6.1-py2.py3-none-any.whl (419 kB)\n",
            "\u001b[K     |████████████████████████████████| 419 kB 55.2 MB/s \n",
            "\u001b[?25hRequirement already satisfied: requests in /usr/local/lib/python3.7/dist-packages (from pattern) (2.23.0)\n",
            "Collecting jaraco.collections\n",
            "  Downloading jaraco.collections-3.5.1-py3-none-any.whl (10 kB)\n",
            "Collecting zc.lockfile\n",
            "  Downloading zc.lockfile-2.0-py2.py3-none-any.whl (9.7 kB)\n",
            "Requirement already satisfied: more-itertools in /usr/local/lib/python3.7/dist-packages (from cherrypy->pattern) (8.13.0)\n",
            "Collecting portend>=2.1.1\n",
            "  Downloading portend-3.1.0-py3-none-any.whl (5.3 kB)\n",
            "Collecting cheroot>=8.2.1\n",
            "  Downloading cheroot-8.6.0-py2.py3-none-any.whl (104 kB)\n",
            "\u001b[K     |████████████████████████████████| 104 kB 42.1 MB/s \n",
            "\u001b[?25hRequirement already satisfied: six>=1.11.0 in /usr/local/lib/python3.7/dist-packages (from cheroot>=8.2.1->cherrypy->pattern) (1.15.0)\n",
            "Collecting jaraco.functools\n",
            "  Downloading jaraco.functools-3.5.0-py3-none-any.whl (7.0 kB)\n",
            "Collecting tempora>=1.8\n",
            "  Downloading tempora-5.0.1-py3-none-any.whl (15 kB)\n",
            "Requirement already satisfied: pytz in /usr/local/lib/python3.7/dist-packages (from tempora>=1.8->portend>=2.1.1->cherrypy->pattern) (2022.1)\n",
            "Collecting sgmllib3k\n",
            "  Downloading sgmllib3k-1.0.0.tar.gz (5.8 kB)\n",
            "Collecting jaraco.classes\n",
            "  Downloading jaraco.classes-3.2.1-py3-none-any.whl (5.6 kB)\n",
            "Collecting jaraco.text\n",
            "  Downloading jaraco.text-3.7.0-py3-none-any.whl (8.6 kB)\n",
            "Requirement already satisfied: importlib-resources in /usr/local/lib/python3.7/dist-packages (from jaraco.text->jaraco.collections->cherrypy->pattern) (5.7.1)\n",
            "Collecting jaraco.context>=4.1\n",
            "  Downloading jaraco.context-4.1.1-py3-none-any.whl (4.4 kB)\n",
            "Requirement already satisfied: zipp>=3.1.0 in /usr/local/lib/python3.7/dist-packages (from importlib-resources->jaraco.text->jaraco.collections->cherrypy->pattern) (3.8.0)\n",
            "Collecting cryptography~=36.0.0\n",
            "  Downloading cryptography-36.0.2-cp36-abi3-manylinux_2_24_x86_64.whl (3.6 MB)\n",
            "\u001b[K     |████████████████████████████████| 3.6 MB 42.6 MB/s \n",
            "\u001b[?25hRequirement already satisfied: charset-normalizer~=2.0.0 in /usr/local/lib/python3.7/dist-packages (from pdfminer.six->pattern) (2.0.12)\n",
            "Requirement already satisfied: cffi>=1.12 in /usr/local/lib/python3.7/dist-packages (from cryptography~=36.0.0->pdfminer.six->pattern) (1.15.0)\n",
            "Requirement already satisfied: pycparser in /usr/local/lib/python3.7/dist-packages (from cffi>=1.12->cryptography~=36.0.0->pdfminer.six->pattern) (2.21)\n",
            "Requirement already satisfied: certifi>=2017.4.17 in /usr/local/lib/python3.7/dist-packages (from requests->pattern) (2021.10.8)\n",
            "Requirement already satisfied: idna<3,>=2.5 in /usr/local/lib/python3.7/dist-packages (from requests->pattern) (2.10)\n",
            "Requirement already satisfied: urllib3!=1.25.0,!=1.25.1,<1.26,>=1.21.1 in /usr/local/lib/python3.7/dist-packages (from requests->pattern) (1.24.3)\n",
            "Requirement already satisfied: chardet<4,>=3.0.2 in /usr/local/lib/python3.7/dist-packages (from requests->pattern) (3.0.4)\n",
            "Requirement already satisfied: setuptools in /usr/local/lib/python3.7/dist-packages (from zc.lockfile->cherrypy->pattern) (57.4.0)\n",
            "Building wheels for collected packages: pattern, mysqlclient, python-docx, sgmllib3k\n",
            "  Building wheel for pattern (setup.py) ... \u001b[?25l\u001b[?25hdone\n",
            "  Created wheel for pattern: filename=Pattern-3.6-py3-none-any.whl size=22332721 sha256=ae3ba7051dfd051627e3aabf4377766ce6873beaf524f2166998b79e4b421706\n",
            "  Stored in directory: /root/.cache/pip/wheels/8d/1f/4e/9b67afd2430d55dee90bd57618dd7d899f1323e5852c465682\n",
            "  Building wheel for mysqlclient (setup.py) ... \u001b[?25l\u001b[?25hdone\n",
            "  Created wheel for mysqlclient: filename=mysqlclient-2.1.0-cp37-cp37m-linux_x86_64.whl size=99979 sha256=fa919e5b8192ae0f11b8eb51d7f4ac6b00f5489fc76a0939c00590df31add222\n",
            "  Stored in directory: /root/.cache/pip/wheels/97/d4/df/08cd6e1fa4a8691b268ab254bd0fa589827ab5b65638c010b4\n",
            "  Building wheel for python-docx (setup.py) ... \u001b[?25l\u001b[?25hdone\n",
            "  Created wheel for python-docx: filename=python_docx-0.8.11-py3-none-any.whl size=184507 sha256=e544cf71491522af18c64bc7ff378f15e95fcfc4c84718a67381306609d6cd44\n",
            "  Stored in directory: /root/.cache/pip/wheels/f6/6f/b9/d798122a8b55b74ad30b5f52b01482169b445fbb84a11797a6\n",
            "  Building wheel for sgmllib3k (setup.py) ... \u001b[?25l\u001b[?25hdone\n",
            "  Created wheel for sgmllib3k: filename=sgmllib3k-1.0.0-py3-none-any.whl size=6066 sha256=415174c7433a533774eff2e93b9e547aa67947ace3552ea9ef5b7baf79e9ae78\n",
            "  Stored in directory: /root/.cache/pip/wheels/73/ad/a4/0dff4a6ef231fc0dfa12ffbac2a36cebfdddfe059f50e019aa\n",
            "Successfully built pattern mysqlclient python-docx sgmllib3k\n",
            "Installing collected packages: jaraco.functools, jaraco.context, tempora, jaraco.text, jaraco.classes, zc.lockfile, sgmllib3k, portend, jaraco.collections, cryptography, cheroot, python-docx, pdfminer.six, mysqlclient, feedparser, cherrypy, backports.csv, pattern\n",
            "Successfully installed backports.csv-1.0.7 cheroot-8.6.0 cherrypy-18.6.1 cryptography-36.0.2 feedparser-6.0.10 jaraco.classes-3.2.1 jaraco.collections-3.5.1 jaraco.context-4.1.1 jaraco.functools-3.5.0 jaraco.text-3.7.0 mysqlclient-2.1.0 pattern-3.6 pdfminer.six-20220506 portend-3.1.0 python-docx-0.8.11 sgmllib3k-1.0.0 tempora-5.0.1 zc.lockfile-2.0\n"
          ]
        }
      ]
    },
    {
      "cell_type": "markdown",
      "source": [
        "##P1.Importando librerias"
      ],
      "metadata": {
        "id": "sFvnyohl6q7U"
      }
    },
    {
      "cell_type": "markdown",
      "source": [
        "###P1.1 Genericas"
      ],
      "metadata": {
        "id": "sc4QJGuN6uH5"
      }
    },
    {
      "cell_type": "code",
      "source": [
        "import urllib.request\n",
        "import numpy as np\n",
        "import pandas as pd \n",
        "import os\n",
        "import time\n",
        "import sys\n",
        "from zipfile import ZipFile       #para descomprimir ZIP\n",
        "#-----librerias para trabajar PLN\n",
        "import nltk\n",
        "#from pattern.es import lemma\n",
        "from nltk import word_tokenize\n",
        "from nltk.corpus import stopwords\n",
        "\n",
        "#----librerias para normalización de textos\n",
        "import re\n",
        "from unicodedata import normalize"
      ],
      "metadata": {
        "id": "biLcEjex6xC6"
      },
      "execution_count": null,
      "outputs": []
    },
    {
      "cell_type": "markdown",
      "source": [
        "###P1.2 Machine Learning"
      ],
      "metadata": {
        "id": "dyqlGEY66xlR"
      }
    },
    {
      "cell_type": "code",
      "source": [
        "from sklearn.linear_model import LogisticRegression\n",
        "from sklearn.model_selection import train_test_split\n",
        "\n",
        "#CountVectorizer proporcionado por la biblioteca scikit-learn para vectorizar oraciones.\n",
        "from sklearn.feature_extraction.text import CountVectorizer"
      ],
      "metadata": {
        "id": "5gO12J6j624V"
      },
      "execution_count": null,
      "outputs": []
    },
    {
      "cell_type": "markdown",
      "source": [
        "##P2. descargando DataSet"
      ],
      "metadata": {
        "id": "s7A6niLL7L9G"
      }
    },
    {
      "cell_type": "code",
      "source": [
        "from google.colab import drive\n",
        "drive.mount('/content/drive')"
      ],
      "metadata": {
        "colab": {
          "base_uri": "https://localhost:8080/"
        },
        "id": "5D1JvaypXYRf",
        "outputId": "3018d7ba-62da-4f9f-ecff-3ae675c4eee7"
      },
      "execution_count": null,
      "outputs": [
        {
          "output_type": "stream",
          "name": "stdout",
          "text": [
            "Mounted at /content/drive\n"
          ]
        }
      ]
    },
    {
      "cell_type": "code",
      "source": [
        "def reporthook(count, block_size, total_size):\n",
        "    global start_time\n",
        "    if count == 0:\n",
        "        start_time = time.time()\n",
        "        return\n",
        "    duration = time.time() - start_time\n",
        "    progress_size = int(count * block_size)\n",
        "    speed = progress_size / (1024.**2 * duration)\n",
        "    percent = count * block_size * 100. / total_size\n",
        "    sys.stdout.write(\"\\r%d%% | %d MB | %.2f MB/s | %d segundos transcurrido\" %\n",
        "                    (percent, progress_size / (1024.**2), speed, duration))\n",
        "    sys.stdout.flush()\n",
        "    \n",
        "url_github_Model='https://raw.githubusercontent.com/JairoGarcia16/Deep_Learning/main/Segudno%20Corte/tweets_dataset.csv'\n",
        "urllib.request.urlretrieve(url_github_Model,\n",
        "                           'DataSetAnalisys.csv', \n",
        "                           reporthook)"
      ],
      "metadata": {
        "colab": {
          "base_uri": "https://localhost:8080/"
        },
        "id": "FUpdOUX27P7j",
        "outputId": "4cf73f75-3985-4aae-c070-7b4920539ddf"
      },
      "execution_count": null,
      "outputs": [
        {
          "output_type": "stream",
          "name": "stdout",
          "text": [
            "100% | 1 MB | 3.30 MB/s | 0 segundos transcurrido"
          ]
        },
        {
          "output_type": "execute_result",
          "data": {
            "text/plain": [
              "('DataSetAnalisys.csv', <http.client.HTTPMessage at 0x7fa013551cd0>)"
            ]
          },
          "metadata": {},
          "execution_count": 88
        }
      ]
    },
    {
      "cell_type": "markdown",
      "source": [
        "#Sentimental Analysis for Tweets\n",
        "El Análisis Sentimental puede ser muy útil para descubrir la depresión y curarla antes de que alguien se meta en serios problemas.\n",
        "\n",
        "¿La persona tiene depresión? 0 para NO y 1 significa SÍ"
      ],
      "metadata": {
        "id": "c9g1Orlbj1U8"
      }
    },
    {
      "cell_type": "markdown",
      "source": [
        "###P3.2 carga los CSV en Dataframe"
      ],
      "metadata": {
        "id": "Mhaaszhb9NLc"
      }
    },
    {
      "cell_type": "code",
      "source": [
        "filepath_dict = {'tweets':   '/content/DataSetAnalisys.csv'}\n",
        "\n",
        "df_list = []\n",
        "for source, filepath in filepath_dict.items():\n",
        "    df = pd.read_csv(filepath, names=['sentence', 'label'])\n",
        "    df['source'] = source  # Add another column filled with the source name\n",
        "    df_list.append(df)\n",
        "\n",
        "df = pd.concat(df_list)\n",
        "df.head(20)"
      ],
      "metadata": {
        "colab": {
          "base_uri": "https://localhost:8080/",
          "height": 676
        },
        "id": "6Nd1B6Nn9UQs",
        "outputId": "6e24dcb1-0bdd-436d-b573-7f0c756f8b6c"
      },
      "execution_count": null,
      "outputs": [
        {
          "output_type": "execute_result",
          "data": {
            "text/plain": [
              "                                               sentence  label  source\n",
              "106   just had a real good moment. i missssssssss hi...      0  tweets\n",
              "217          is reading manga  http://plurk.com/p/mzp1e      0  tweets\n",
              "220   @comeagainjen http://twitpic.com/2y2lx - http:...      0  tweets\n",
              "288   @lapcat Need to send 'em to my accountant tomo...      0  tweets\n",
              "540       ADD ME ON MYSPACE!!!  myspace.com/LookThunder      0  tweets\n",
              "624               so sleepy. good times tonight though       0  tweets\n",
              "701   @SilkCharm re: #nbn as someone already said, d...      0  tweets\n",
              "808                  23 or 24ï¿½C possible today. Nice       0  tweets\n",
              "1193        nite twitterville  workout in the am  -ciao      0  tweets\n",
              "1324    @daNanner Night, darlin'!  Sweet dreams to you       0  tweets\n",
              "1332                           Good morning everybody!       0  tweets\n",
              "1368  Finally! I just created my WordPress Blog. The...      0  tweets\n",
              "1578  kisha they cnt get over u til they get out frm...      0  tweets\n",
              "1595  @nicolerichie Yes i remember that band, It was...      0  tweets\n",
              "1861             I really love reflections and shadows       0  tweets\n",
              "1889  @blueaero ooo it's fantasy?  i like fantasy no...      0  tweets\n",
              "1899  @rokchic28 no probs, I sell nothing other than...      0  tweets\n",
              "1919  @shipovalov &quot;NOKLA connecting people&quot...      0  tweets\n",
              "1992  Once again stayed up to late and have to start...      0  tweets\n",
              "2097  @Kal_Penn I just read about your new job, CONG...      0  tweets"
            ],
            "text/html": [
              "\n",
              "  <div id=\"df-6ab95a25-00ab-4b27-a635-fae786e8533d\">\n",
              "    <div class=\"colab-df-container\">\n",
              "      <div>\n",
              "<style scoped>\n",
              "    .dataframe tbody tr th:only-of-type {\n",
              "        vertical-align: middle;\n",
              "    }\n",
              "\n",
              "    .dataframe tbody tr th {\n",
              "        vertical-align: top;\n",
              "    }\n",
              "\n",
              "    .dataframe thead th {\n",
              "        text-align: right;\n",
              "    }\n",
              "</style>\n",
              "<table border=\"1\" class=\"dataframe\">\n",
              "  <thead>\n",
              "    <tr style=\"text-align: right;\">\n",
              "      <th></th>\n",
              "      <th>sentence</th>\n",
              "      <th>label</th>\n",
              "      <th>source</th>\n",
              "    </tr>\n",
              "  </thead>\n",
              "  <tbody>\n",
              "    <tr>\n",
              "      <th>106</th>\n",
              "      <td>just had a real good moment. i missssssssss hi...</td>\n",
              "      <td>0</td>\n",
              "      <td>tweets</td>\n",
              "    </tr>\n",
              "    <tr>\n",
              "      <th>217</th>\n",
              "      <td>is reading manga  http://plurk.com/p/mzp1e</td>\n",
              "      <td>0</td>\n",
              "      <td>tweets</td>\n",
              "    </tr>\n",
              "    <tr>\n",
              "      <th>220</th>\n",
              "      <td>@comeagainjen http://twitpic.com/2y2lx - http:...</td>\n",
              "      <td>0</td>\n",
              "      <td>tweets</td>\n",
              "    </tr>\n",
              "    <tr>\n",
              "      <th>288</th>\n",
              "      <td>@lapcat Need to send 'em to my accountant tomo...</td>\n",
              "      <td>0</td>\n",
              "      <td>tweets</td>\n",
              "    </tr>\n",
              "    <tr>\n",
              "      <th>540</th>\n",
              "      <td>ADD ME ON MYSPACE!!!  myspace.com/LookThunder</td>\n",
              "      <td>0</td>\n",
              "      <td>tweets</td>\n",
              "    </tr>\n",
              "    <tr>\n",
              "      <th>624</th>\n",
              "      <td>so sleepy. good times tonight though</td>\n",
              "      <td>0</td>\n",
              "      <td>tweets</td>\n",
              "    </tr>\n",
              "    <tr>\n",
              "      <th>701</th>\n",
              "      <td>@SilkCharm re: #nbn as someone already said, d...</td>\n",
              "      <td>0</td>\n",
              "      <td>tweets</td>\n",
              "    </tr>\n",
              "    <tr>\n",
              "      <th>808</th>\n",
              "      <td>23 or 24ï¿½C possible today. Nice</td>\n",
              "      <td>0</td>\n",
              "      <td>tweets</td>\n",
              "    </tr>\n",
              "    <tr>\n",
              "      <th>1193</th>\n",
              "      <td>nite twitterville  workout in the am  -ciao</td>\n",
              "      <td>0</td>\n",
              "      <td>tweets</td>\n",
              "    </tr>\n",
              "    <tr>\n",
              "      <th>1324</th>\n",
              "      <td>@daNanner Night, darlin'!  Sweet dreams to you</td>\n",
              "      <td>0</td>\n",
              "      <td>tweets</td>\n",
              "    </tr>\n",
              "    <tr>\n",
              "      <th>1332</th>\n",
              "      <td>Good morning everybody!</td>\n",
              "      <td>0</td>\n",
              "      <td>tweets</td>\n",
              "    </tr>\n",
              "    <tr>\n",
              "      <th>1368</th>\n",
              "      <td>Finally! I just created my WordPress Blog. The...</td>\n",
              "      <td>0</td>\n",
              "      <td>tweets</td>\n",
              "    </tr>\n",
              "    <tr>\n",
              "      <th>1578</th>\n",
              "      <td>kisha they cnt get over u til they get out frm...</td>\n",
              "      <td>0</td>\n",
              "      <td>tweets</td>\n",
              "    </tr>\n",
              "    <tr>\n",
              "      <th>1595</th>\n",
              "      <td>@nicolerichie Yes i remember that band, It was...</td>\n",
              "      <td>0</td>\n",
              "      <td>tweets</td>\n",
              "    </tr>\n",
              "    <tr>\n",
              "      <th>1861</th>\n",
              "      <td>I really love reflections and shadows</td>\n",
              "      <td>0</td>\n",
              "      <td>tweets</td>\n",
              "    </tr>\n",
              "    <tr>\n",
              "      <th>1889</th>\n",
              "      <td>@blueaero ooo it's fantasy?  i like fantasy no...</td>\n",
              "      <td>0</td>\n",
              "      <td>tweets</td>\n",
              "    </tr>\n",
              "    <tr>\n",
              "      <th>1899</th>\n",
              "      <td>@rokchic28 no probs, I sell nothing other than...</td>\n",
              "      <td>0</td>\n",
              "      <td>tweets</td>\n",
              "    </tr>\n",
              "    <tr>\n",
              "      <th>1919</th>\n",
              "      <td>@shipovalov &amp;quot;NOKLA connecting people&amp;quot...</td>\n",
              "      <td>0</td>\n",
              "      <td>tweets</td>\n",
              "    </tr>\n",
              "    <tr>\n",
              "      <th>1992</th>\n",
              "      <td>Once again stayed up to late and have to start...</td>\n",
              "      <td>0</td>\n",
              "      <td>tweets</td>\n",
              "    </tr>\n",
              "    <tr>\n",
              "      <th>2097</th>\n",
              "      <td>@Kal_Penn I just read about your new job, CONG...</td>\n",
              "      <td>0</td>\n",
              "      <td>tweets</td>\n",
              "    </tr>\n",
              "  </tbody>\n",
              "</table>\n",
              "</div>\n",
              "      <button class=\"colab-df-convert\" onclick=\"convertToInteractive('df-6ab95a25-00ab-4b27-a635-fae786e8533d')\"\n",
              "              title=\"Convert this dataframe to an interactive table.\"\n",
              "              style=\"display:none;\">\n",
              "        \n",
              "  <svg xmlns=\"http://www.w3.org/2000/svg\" height=\"24px\"viewBox=\"0 0 24 24\"\n",
              "       width=\"24px\">\n",
              "    <path d=\"M0 0h24v24H0V0z\" fill=\"none\"/>\n",
              "    <path d=\"M18.56 5.44l.94 2.06.94-2.06 2.06-.94-2.06-.94-.94-2.06-.94 2.06-2.06.94zm-11 1L8.5 8.5l.94-2.06 2.06-.94-2.06-.94L8.5 2.5l-.94 2.06-2.06.94zm10 10l.94 2.06.94-2.06 2.06-.94-2.06-.94-.94-2.06-.94 2.06-2.06.94z\"/><path d=\"M17.41 7.96l-1.37-1.37c-.4-.4-.92-.59-1.43-.59-.52 0-1.04.2-1.43.59L10.3 9.45l-7.72 7.72c-.78.78-.78 2.05 0 2.83L4 21.41c.39.39.9.59 1.41.59.51 0 1.02-.2 1.41-.59l7.78-7.78 2.81-2.81c.8-.78.8-2.07 0-2.86zM5.41 20L4 18.59l7.72-7.72 1.47 1.35L5.41 20z\"/>\n",
              "  </svg>\n",
              "      </button>\n",
              "      \n",
              "  <style>\n",
              "    .colab-df-container {\n",
              "      display:flex;\n",
              "      flex-wrap:wrap;\n",
              "      gap: 12px;\n",
              "    }\n",
              "\n",
              "    .colab-df-convert {\n",
              "      background-color: #E8F0FE;\n",
              "      border: none;\n",
              "      border-radius: 50%;\n",
              "      cursor: pointer;\n",
              "      display: none;\n",
              "      fill: #1967D2;\n",
              "      height: 32px;\n",
              "      padding: 0 0 0 0;\n",
              "      width: 32px;\n",
              "    }\n",
              "\n",
              "    .colab-df-convert:hover {\n",
              "      background-color: #E2EBFA;\n",
              "      box-shadow: 0px 1px 2px rgba(60, 64, 67, 0.3), 0px 1px 3px 1px rgba(60, 64, 67, 0.15);\n",
              "      fill: #174EA6;\n",
              "    }\n",
              "\n",
              "    [theme=dark] .colab-df-convert {\n",
              "      background-color: #3B4455;\n",
              "      fill: #D2E3FC;\n",
              "    }\n",
              "\n",
              "    [theme=dark] .colab-df-convert:hover {\n",
              "      background-color: #434B5C;\n",
              "      box-shadow: 0px 1px 3px 1px rgba(0, 0, 0, 0.15);\n",
              "      filter: drop-shadow(0px 1px 2px rgba(0, 0, 0, 0.3));\n",
              "      fill: #FFFFFF;\n",
              "    }\n",
              "  </style>\n",
              "\n",
              "      <script>\n",
              "        const buttonEl =\n",
              "          document.querySelector('#df-6ab95a25-00ab-4b27-a635-fae786e8533d button.colab-df-convert');\n",
              "        buttonEl.style.display =\n",
              "          google.colab.kernel.accessAllowed ? 'block' : 'none';\n",
              "\n",
              "        async function convertToInteractive(key) {\n",
              "          const element = document.querySelector('#df-6ab95a25-00ab-4b27-a635-fae786e8533d');\n",
              "          const dataTable =\n",
              "            await google.colab.kernel.invokeFunction('convertToInteractive',\n",
              "                                                     [key], {});\n",
              "          if (!dataTable) return;\n",
              "\n",
              "          const docLinkHtml = 'Like what you see? Visit the ' +\n",
              "            '<a target=\"_blank\" href=https://colab.research.google.com/notebooks/data_table.ipynb>data table notebook</a>'\n",
              "            + ' to learn more about interactive tables.';\n",
              "          element.innerHTML = '';\n",
              "          dataTable['output_type'] = 'display_data';\n",
              "          await google.colab.output.renderOutput(dataTable, element);\n",
              "          const docLink = document.createElement('div');\n",
              "          docLink.innerHTML = docLinkHtml;\n",
              "          element.appendChild(docLink);\n",
              "        }\n",
              "      </script>\n",
              "    </div>\n",
              "  </div>\n",
              "  "
            ]
          },
          "metadata": {},
          "execution_count": 90
        }
      ]
    },
    {
      "cell_type": "markdown",
      "source": [
        "##P4. conociendo la data (BagWord)"
      ],
      "metadata": {
        "id": "dzuLqVT4_aTz"
      }
    },
    {
      "cell_type": "code",
      "source": [
        "print('RowsXcolums-->',df.shape)\n",
        "print('tweets-->',sum(df['source'] == 'tweets'))\n"
      ],
      "metadata": {
        "colab": {
          "base_uri": "https://localhost:8080/"
        },
        "id": "Iu8Sr3DNDTbY",
        "outputId": "3749f4be-8460-42d1-9dcf-e5ce8f2bbd9d"
      },
      "execution_count": null,
      "outputs": [
        {
          "output_type": "stream",
          "name": "stdout",
          "text": [
            "RowsXcolums--> (10314, 3)\n",
            "tweets--> 10314\n"
          ]
        }
      ]
    },
    {
      "cell_type": "markdown",
      "source": [
        "###P4.1 usando CountVectorizer (ejemplo)\n",
        "\n",
        "---\n",
        "\n",
        "CountVectorizer proporcionado por la biblioteca scikit-learn  realiza la tokenización que separa las oraciones en un conjunto de tokens ordenado por vocabulario. Además, elimina la puntuación y los caracteres especiales y puede aplicar otro preprocesamiento a cada palabra"
      ],
      "metadata": {
        "id": "EqzNjPpy_fVh"
      }
    },
    {
      "cell_type": "code",
      "source": [
        "#obtener las palabras que aparecen de acuerdo con el Orden del vocabulario\n",
        "oraciones = ['My doggy is so cute', 'depression: im always here for u, darling']\n",
        "vectorizer = CountVectorizer(min_df=0, lowercase=True,stop_words=stopwords.words('english'))   \n",
        "     \n",
        "vectorizer.fit(oraciones)"
      ],
      "metadata": {
        "colab": {
          "base_uri": "https://localhost:8080/"
        },
        "id": "tPSOifC8_q8G",
        "outputId": "d601413b-c5bc-4c42-92eb-23930755329d"
      },
      "execution_count": null,
      "outputs": [
        {
          "output_type": "execute_result",
          "data": {
            "text/plain": [
              "CountVectorizer(min_df=0,\n",
              "                stop_words=['i', 'me', 'my', 'myself', 'we', 'our', 'ours',\n",
              "                            'ourselves', 'you', \"you're\", \"you've\", \"you'll\",\n",
              "                            \"you'd\", 'your', 'yours', 'yourself', 'yourselves',\n",
              "                            'he', 'him', 'his', 'himself', 'she', \"she's\",\n",
              "                            'her', 'hers', 'herself', 'it', \"it's\", 'its',\n",
              "                            'itself', ...])"
            ]
          },
          "metadata": {},
          "execution_count": 92
        }
      ]
    },
    {
      "cell_type": "code",
      "source": [
        "vectorizer.get_feature_names_out()"
      ],
      "metadata": {
        "colab": {
          "base_uri": "https://localhost:8080/"
        },
        "id": "DOAA-noR9umj",
        "outputId": "0bcff3fb-5dd9-4f31-f61c-390f21d4de03"
      },
      "execution_count": null,
      "outputs": [
        {
          "output_type": "execute_result",
          "data": {
            "text/plain": [
              "array(['always', 'cute', 'darling', 'depression', 'doggy', 'im'],\n",
              "      dtype=object)"
            ]
          },
          "metadata": {},
          "execution_count": 93
        }
      ]
    },
    {
      "cell_type": "code",
      "source": [
        "vectorizer.vocabulary_"
      ],
      "metadata": {
        "colab": {
          "base_uri": "https://localhost:8080/"
        },
        "id": "2XrAVY8a94ck",
        "outputId": "ae468e9f-e1fd-4cd9-90d5-cd289f96edcd"
      },
      "execution_count": null,
      "outputs": [
        {
          "output_type": "execute_result",
          "data": {
            "text/plain": [
              "{'always': 0, 'cute': 1, 'darling': 2, 'depression': 3, 'doggy': 4, 'im': 5}"
            ]
          },
          "metadata": {},
          "execution_count": 94
        }
      ]
    },
    {
      "cell_type": "code",
      "source": [
        "#bolsa de palabras (Cada documento se representa como un vector)\n",
        "#vectorizer.transform(oraciones).toarray()\n",
        "array=vectorizer.transform(oraciones)\n",
        "print(array.toarray())"
      ],
      "metadata": {
        "colab": {
          "base_uri": "https://localhost:8080/"
        },
        "id": "dCUjbpmWAxFn",
        "outputId": "f4bb6df2-1ec4-4da9-92d5-dffb0c82046f"
      },
      "execution_count": null,
      "outputs": [
        {
          "output_type": "stream",
          "name": "stdout",
          "text": [
            "[[0 1 0 0 1 0]\n",
            " [1 0 1 1 0 1]]\n"
          ]
        }
      ]
    },
    {
      "cell_type": "markdown",
      "source": [
        "###P4.2 usando CountVectorizer con datos de Sentimental Analysis for Tweets"
      ],
      "metadata": {
        "id": "6gS_855WC61s"
      }
    },
    {
      "cell_type": "code",
      "source": [
        "df_tweet = df[df['source'] == 'tweets']\n",
        "sentences = df_tweet['sentence'].values\n",
        "y = df_tweet['label'].values\n",
        "\n",
        "sentences_train, sentences_test, y_train, y_test = train_test_split(\n",
        "   sentences, y, test_size=0.25, random_state=1000)"
      ],
      "metadata": {
        "id": "mTMLugz1DC6k"
      },
      "execution_count": null,
      "outputs": []
    },
    {
      "cell_type": "markdown",
      "source": [
        "###P4.3 generar BagWords \n",
        "\n",
        "---\n",
        "\n"
      ],
      "metadata": {
        "id": "EQGgkWRcFlMH"
      }
    },
    {
      "cell_type": "code",
      "source": [
        "#generamos los vectores de palabras (750x1681) registrosXtamaño del vocabulario\n",
        "#vectorizer = CountVectorizer(min_df=0, lowercase=True,stop_words=stopwords.words('spanish'))   \n",
        "vectorizer = CountVectorizer(min_df=0, lowercase=True)   \n",
        "vectorizer.fit(sentences_train)\n",
        "\n",
        "X_train = vectorizer.transform(sentences_train)\n",
        "X_test  = vectorizer.transform(sentences_test)\n",
        "#print(X_train.toarray())"
      ],
      "metadata": {
        "id": "AGtj_R88F9WI"
      },
      "execution_count": null,
      "outputs": []
    },
    {
      "cell_type": "code",
      "source": [
        "print(X_train.toarray())\n",
        "X_train.shape"
      ],
      "metadata": {
        "id": "8c4NTBOK9N2F",
        "colab": {
          "base_uri": "https://localhost:8080/"
        },
        "outputId": "589013dc-7fb6-46b2-9c75-d04137f91047"
      },
      "execution_count": null,
      "outputs": [
        {
          "output_type": "stream",
          "name": "stdout",
          "text": [
            "[[0 0 0 ... 0 0 0]\n",
            " [0 0 0 ... 0 0 0]\n",
            " [0 0 0 ... 0 0 0]\n",
            " ...\n",
            " [0 0 0 ... 0 0 0]\n",
            " [0 0 0 ... 0 0 0]\n",
            " [0 0 0 ... 0 0 0]]\n"
          ]
        },
        {
          "output_type": "execute_result",
          "data": {
            "text/plain": [
              "(7735, 18509)"
            ]
          },
          "metadata": {},
          "execution_count": 98
        }
      ]
    },
    {
      "cell_type": "markdown",
      "source": [
        "##P5.modelo de ML (regresión logistica)."
      ],
      "metadata": {
        "id": "wA0NbJJ6G5m4"
      }
    },
    {
      "cell_type": "code",
      "source": [
        "classifier = LogisticRegression()\n",
        "classifier.fit(X_train, y_train)\n",
        "score = classifier.score(X_test, y_test)\n",
        "\n",
        "print(\"Precisión:\", score)"
      ],
      "metadata": {
        "colab": {
          "base_uri": "https://localhost:8080/"
        },
        "id": "dR5BKu3nG-aY",
        "outputId": "7eb0d047-0d6a-4d7c-8d51-9e2064e3ea6e"
      },
      "execution_count": null,
      "outputs": [
        {
          "output_type": "stream",
          "name": "stdout",
          "text": [
            "Precisión: 0.9941837921675067\n"
          ]
        }
      ]
    },
    {
      "cell_type": "markdown",
      "source": [
        "###P5.1 evaluando modelo por cada set de datos"
      ],
      "metadata": {
        "id": "twF2Dgu4Jj_w"
      }
    },
    {
      "cell_type": "code",
      "source": [
        "for source in df['source'].unique():\n",
        "    df_source = df[df['source'] == source]\n",
        "    sentences = df_source['sentence'].values\n",
        "    y = df_source['label'].values\n",
        "    sentences_train, sentences_test, y_train, y_test = train_test_split(\n",
        "        sentences, y, test_size=0.25, random_state=1000)\n",
        "    vectorizer = CountVectorizer(min_df=0, lowercase=True) \n",
        "    vectorizer.fit(sentences_train)\n",
        "    X_train = vectorizer.transform(sentences_train)\n",
        "    X_test  = vectorizer.transform(sentences_test)\n",
        "    classifier = LogisticRegression()\n",
        "    classifier.fit(X_train, y_train)\n",
        "    score = classifier.score(X_test, y_test)\n",
        "    print('Precisión para datos {}: {:.4f}'.format(source, score))"
      ],
      "metadata": {
        "colab": {
          "base_uri": "https://localhost:8080/"
        },
        "id": "qlYJvkroJyCe",
        "outputId": "df114b80-ccfc-4b64-c070-3f3d911326ae"
      },
      "execution_count": null,
      "outputs": [
        {
          "output_type": "stream",
          "name": "stdout",
          "text": [
            "Precisión para datos tweets: 0.9942\n"
          ]
        }
      ]
    },
    {
      "cell_type": "markdown",
      "source": [
        "###P5.2 evaluando modelo con fulldata"
      ],
      "metadata": {
        "id": "j0WMdb2rJ_dO"
      }
    },
    {
      "cell_type": "code",
      "source": [
        "sentences = df['sentence'].values\n",
        "y = df['label'].values\n",
        "sentences_train, sentences_test, y_train, y_test = train_test_split(\n",
        "   sentences, y, test_size=0.25, random_state=1000)\n",
        "\n",
        "vectorizer = CountVectorizer(min_df=0, lowercase=True)   \n",
        "vectorizer.fit(sentences_train)\n",
        "\n",
        "X_train = vectorizer.transform(sentences_train)\n",
        "X_test  = vectorizer.transform(sentences_test)\n",
        "modeloPLNRegLog = LogisticRegression()\n",
        "modeloPLNRegLog.fit(X_train, y_train)\n",
        "score = modeloPLNRegLog.score(X_test, y_test)\n",
        "\n",
        "print(\"Precisión:\", score)"
      ],
      "metadata": {
        "colab": {
          "base_uri": "https://localhost:8080/"
        },
        "id": "Yd5D2bYQKJp1",
        "outputId": "770e4a73-52e6-401a-9ca0-63cae93ce561"
      },
      "execution_count": null,
      "outputs": [
        {
          "output_type": "stream",
          "name": "stdout",
          "text": [
            "Precisión: 0.9941837921675067\n"
          ]
        }
      ]
    },
    {
      "cell_type": "code",
      "source": [
        "print(X_train.toarray())\n",
        "X_train.shape"
      ],
      "metadata": {
        "colab": {
          "base_uri": "https://localhost:8080/"
        },
        "id": "b2w6xe7U1zM4",
        "outputId": "6f7902d5-6846-483c-9d99-cc7bc093cc74"
      },
      "execution_count": null,
      "outputs": [
        {
          "output_type": "stream",
          "name": "stdout",
          "text": [
            "[[0 0 0 ... 0 0 0]\n",
            " [0 0 0 ... 0 0 0]\n",
            " [0 0 0 ... 0 0 0]\n",
            " ...\n",
            " [0 0 0 ... 0 0 0]\n",
            " [0 0 0 ... 0 0 0]\n",
            " [0 0 0 ... 0 0 0]]\n"
          ]
        },
        {
          "output_type": "execute_result",
          "data": {
            "text/plain": [
              "(7735, 18509)"
            ]
          },
          "metadata": {},
          "execution_count": 102
        }
      ]
    },
    {
      "cell_type": "markdown",
      "source": [
        "###P5.3 Salvando el modelo (serializando)\n",
        "\n",
        "---\n",
        "*   salvaremos el modelo y el vocabulario generado del bagWords\n",
        "*   para ver metodos de exportación:\n",
        "https://machinelearningmastery.com/save-load-machine-learning-models-python-scikit-learn/\n"
      ],
      "metadata": {
        "id": "2W_L13SfpRpb"
      }
    },
    {
      "cell_type": "code",
      "source": [
        "import pickle\n",
        "\n",
        "pickle.dump(modeloPLNRegLog, open( 'LogRegression_PLN_classSentimientos_model.sav', 'wb'))\n",
        "#serializando el vocabulario\n",
        "feature_list = vectorizer.get_feature_names_out()\n",
        "pickle.dump(feature_list, open('vocabulary.pkl', 'wb'))"
      ],
      "metadata": {
        "id": "ZN96BYtxpiKT"
      },
      "execution_count": null,
      "outputs": []
    },
    {
      "cell_type": "markdown",
      "source": [
        "###P5.4 cargando el modelo (serializado)"
      ],
      "metadata": {
        "id": "aPuU175xqf5p"
      }
    },
    {
      "cell_type": "code",
      "source": [
        "#cargando el modelo\n",
        "modeloPLNRegLogNew = pickle.load(open('LogRegression_PLN_classSentimientos_model.sav', 'rb'))\n",
        "#cargando el vocabulario\n",
        "vocabularyNew= pickle.load(open('vocabulary.pkl', 'rb'))\n",
        "vectorizerNew = CountVectorizer(min_df=0, lowercase=True,vocabulary = vocabularyNew)  #creando un nuevo vectorizador con el vocabulario cargado\n",
        "result = modeloPLNRegLogNew.score(X_test, y_test)   #probado con el test de entrenamiento a ver si funciona\n",
        "print('Inferencia:%',result)"
      ],
      "metadata": {
        "colab": {
          "base_uri": "https://localhost:8080/"
        },
        "id": "f9ALLCc3qrii",
        "outputId": "8e7e80a9-5b0f-418a-c34f-cfc0350099ca"
      },
      "execution_count": null,
      "outputs": [
        {
          "output_type": "stream",
          "name": "stdout",
          "text": [
            "Inferencia:% 0.9941837921675067\n"
          ]
        }
      ]
    },
    {
      "cell_type": "markdown",
      "source": [
        "###P5.5 Haciendo predicciones"
      ],
      "metadata": {
        "id": "xpT6GAytsJXn"
      }
    },
    {
      "cell_type": "code",
      "source": [
        "oracion = ['I love spontaneous road trips']\n",
        "X_prueba = vectorizerNew.transform(oracion)  #convertimos la oración al array del bagword\n",
        "\n",
        "#print('vector:',X_prueba[0].toarray())\n",
        "predict=modeloPLNRegLogNew.predict(X_prueba)\n",
        "print(oracion,',The Sentiment is :',predict)\n"
      ],
      "metadata": {
        "colab": {
          "base_uri": "https://localhost:8080/"
        },
        "id": "yeEJoVSYsOp1",
        "outputId": "a259a5be-e41d-4c57-fcb5-51df13bb9e0a"
      },
      "execution_count": null,
      "outputs": [
        {
          "output_type": "stream",
          "name": "stdout",
          "text": [
            "['I love spontaneous road trips'] ,The Sentiment is : [0]\n"
          ]
        }
      ]
    },
    {
      "cell_type": "markdown",
      "source": [
        "#Deep Learning\n",
        "\n",
        "---\n",
        "Donde usaremos Las redes neuronales, o algunas veces llamadas redes neuronales artificiales (RNA)\n",
        "![neural-670x352.jpeg](data:image/jpeg;base64,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)\n"
      ],
      "metadata": {
        "id": "W2R5BHYRk0tV"
      }
    },
    {
      "cell_type": "markdown",
      "source": [
        "**Notas:**\n",
        "*  la ultima capa es una sola neurona ya que el resultado es binario (1 o 0), pero si tiene varias categorías, debe usar varios neuronas para cada categoría.\n",
        "*  Puede tener tantas capas ocultas como desee. De hecho, una red neuronal con más de una capa oculta se considera una red neuronal profunda.\n",
        "*  el peso de cada neurona se calcula en el entrenamiento y comienza con la inicialización de los pesos con valores aleatorios y luego se entrenan con un método llamado backpropagation.\n",
        "*   Esto se hace utilizando métodos de optimización como el descenso de gradiente para reducir el error entre la salida calculada y la deseada (también llamada salida objetivo)...el mejor es ADAM\n",
        "*   Para calcular El error está determinado por una función de pérdida cuya pérdida queremos minimizar con el optimizador. en este tutorial solo necesitará la función de pérdida de entropía cruzada binaria que se usa para los problemas de clasificación binaria.\n"
      ],
      "metadata": {
        "id": "ebKkzzVwlyxi"
      }
    },
    {
      "cell_type": "markdown",
      "source": [
        "##Usando KERAS\n",
        "\n",
        "---\n",
        "\n",
        "Usaremos un modelo secuencial que es una pila lineal de capas, donde puede usar la gran variedad de capas disponibles en Keras. La capa más común es la capa Densa, que es su capa de red neuronal densamente conectada con todos los pesos y sesgos con los que ya está familiarizado"
      ],
      "metadata": {
        "id": "Zud07_sXrOCN"
      }
    },
    {
      "cell_type": "markdown",
      "source": [
        "##P0.importando librerias"
      ],
      "metadata": {
        "id": "A7451eI5rpj8"
      }
    },
    {
      "cell_type": "code",
      "source": [
        "from keras.models import Sequential\n",
        "from keras import layers"
      ],
      "metadata": {
        "id": "jOlqKtc3rm86"
      },
      "execution_count": null,
      "outputs": []
    },
    {
      "cell_type": "markdown",
      "source": [
        "##P1.Creando modelo secuencial\n",
        "\n",
        "---\n",
        "*  1° capa tendremos doble capa \n",
        "*   - 1° # dimensiones (18509 columnas)\n",
        "*   - 2° 10 neuronas\n",
        "*   - 3° 10 neuronas\n",
        "*   usaremos como activación RELU/Sigmoidal"
      ],
      "metadata": {
        "id": "7zlgQ1Ttr4xj"
      }
    },
    {
      "cell_type": "code",
      "source": [
        "input_dim = X_train.shape[1]  # Numero de características (neuronas de entrada)\n",
        "print(\"neuronas de entrada (columnas del vector de entrenamiento):\",input_dim)"
      ],
      "metadata": {
        "colab": {
          "base_uri": "https://localhost:8080/"
        },
        "id": "z22eOcn9QCWg",
        "outputId": "42ce1b89-0b69-4451-9f93-830ca3e1cea1"
      },
      "execution_count": null,
      "outputs": [
        {
          "output_type": "stream",
          "name": "stdout",
          "text": [
            "neuronas de entrada (columnas del vector de entrenamiento): 18509\n"
          ]
        }
      ]
    },
    {
      "cell_type": "code",
      "source": [
        "model = Sequential()\n",
        "model.add(layers.Dense(10, input_dim=input_dim, activation='relu')) #1° # dimensiones (4085 columnas), 2° 10 neuronas\n",
        "model.add(layers.Dense(10, input_dim=input_dim, activation='relu'))  #que pasa si agregamos otra capa (mejorara?)\n",
        "model.add(layers.Dense(1, activation='sigmoid'))"
      ],
      "metadata": {
        "id": "fW_l8qLXr8k7"
      },
      "execution_count": null,
      "outputs": []
    },
    {
      "cell_type": "markdown",
      "source": [
        "##P2. compilando el modelo.\n",
        "\n",
        "---\n",
        "Antes de que pueda comenzar con el entrenamiento del modelo, debe configurar el proceso de aprendizaje. Esto se hace con el método .compile().\n",
        "*   Este método especifica el optimizador y la función de pérdida\n",
        "*   agregamos una lista de métricas que luego se pueden usar para la evaluación (accuracy o Loss)\n"
      ],
      "metadata": {
        "id": "gFvhSop9tK8I"
      }
    },
    {
      "cell_type": "code",
      "source": [
        "model.compile(loss='binary_crossentropy', \n",
        "              optimizer='adam', \n",
        "              metrics=['accuracy'])\n",
        "model.summary()"
      ],
      "metadata": {
        "colab": {
          "base_uri": "https://localhost:8080/"
        },
        "id": "Us0L1XcstmR6",
        "outputId": "dbd0f4d3-e5ff-47d9-afd8-d9d3588b5f7c"
      },
      "execution_count": null,
      "outputs": [
        {
          "output_type": "stream",
          "name": "stdout",
          "text": [
            "Model: \"sequential\"\n",
            "_________________________________________________________________\n",
            " Layer (type)                Output Shape              Param #   \n",
            "=================================================================\n",
            " dense (Dense)               (None, 10)                185100    \n",
            "                                                                 \n",
            " dense_1 (Dense)             (None, 10)                110       \n",
            "                                                                 \n",
            " dense_2 (Dense)             (None, 1)                 11        \n",
            "                                                                 \n",
            "=================================================================\n",
            "Total params: 185,221\n",
            "Trainable params: 185,221\n",
            "Non-trainable params: 0\n",
            "_________________________________________________________________\n"
          ]
        }
      ]
    },
    {
      "cell_type": "markdown",
      "source": [
        "##P3. entrenamos el modelo"
      ],
      "metadata": {
        "id": "A2g7vnj8yjke"
      }
    },
    {
      "cell_type": "code",
      "source": [
        "history = model.fit(X_train, y_train,\n",
        "                    epochs=150,\n",
        "                    verbose=True,\n",
        "                    validation_data=(X_test, y_test),\n",
        "                    batch_size=10)"
      ],
      "metadata": {
        "colab": {
          "base_uri": "https://localhost:8080/"
        },
        "id": "gt-ny-x0Liv_",
        "outputId": "cb09e8ab-8d85-4a49-bd43-319e1f2c8009"
      },
      "execution_count": null,
      "outputs": [
        {
          "output_type": "stream",
          "name": "stdout",
          "text": [
            "Epoch 1/150\n",
            "774/774 [==============================] - 9s 12ms/step - loss: 0.0028 - accuracy: 0.9995 - val_loss: 0.0239 - val_accuracy: 0.9942\n",
            "Epoch 2/150\n",
            "774/774 [==============================] - 7s 9ms/step - loss: 0.0022 - accuracy: 0.9995 - val_loss: 0.0295 - val_accuracy: 0.9922\n",
            "Epoch 3/150\n",
            "774/774 [==============================] - 7s 10ms/step - loss: 0.0018 - accuracy: 0.9995 - val_loss: 0.0340 - val_accuracy: 0.9919\n",
            "Epoch 4/150\n",
            "774/774 [==============================] - 7s 9ms/step - loss: 0.0014 - accuracy: 0.9996 - val_loss: 0.0483 - val_accuracy: 0.9895\n",
            "Epoch 5/150\n",
            "774/774 [==============================] - 7s 9ms/step - loss: 0.0012 - accuracy: 0.9996 - val_loss: 0.0695 - val_accuracy: 0.9884\n",
            "Epoch 6/150\n",
            "774/774 [==============================] - 7s 9ms/step - loss: 0.0011 - accuracy: 0.9996 - val_loss: 0.0422 - val_accuracy: 0.9911\n",
            "Epoch 7/150\n",
            "774/774 [==============================] - 7s 9ms/step - loss: 9.1727e-04 - accuracy: 0.9996 - val_loss: 0.0757 - val_accuracy: 0.9868\n",
            "Epoch 8/150\n",
            "774/774 [==============================] - 7s 9ms/step - loss: 8.2428e-04 - accuracy: 0.9996 - val_loss: 0.0598 - val_accuracy: 0.9880\n",
            "Epoch 9/150\n",
            "774/774 [==============================] - 7s 9ms/step - loss: 7.0157e-04 - accuracy: 0.9996 - val_loss: 0.0659 - val_accuracy: 0.9899\n",
            "Epoch 10/150\n",
            "774/774 [==============================] - 7s 9ms/step - loss: 6.2597e-04 - accuracy: 0.9996 - val_loss: 0.0766 - val_accuracy: 0.9857\n",
            "Epoch 11/150\n",
            "774/774 [==============================] - 7s 9ms/step - loss: 5.5171e-04 - accuracy: 0.9996 - val_loss: 0.0943 - val_accuracy: 0.9794\n",
            "Epoch 12/150\n",
            "774/774 [==============================] - 7s 9ms/step - loss: 4.8632e-04 - accuracy: 0.9997 - val_loss: 0.0976 - val_accuracy: 0.9783\n",
            "Epoch 13/150\n",
            "774/774 [==============================] - 8s 10ms/step - loss: 4.4097e-04 - accuracy: 0.9999 - val_loss: 0.1853 - val_accuracy: 0.9732\n",
            "Epoch 14/150\n",
            "774/774 [==============================] - 7s 9ms/step - loss: 4.2096e-04 - accuracy: 0.9996 - val_loss: 0.1534 - val_accuracy: 0.9709\n",
            "Epoch 15/150\n",
            "774/774 [==============================] - 7s 9ms/step - loss: 3.8433e-04 - accuracy: 0.9997 - val_loss: 0.1461 - val_accuracy: 0.9674\n",
            "Epoch 16/150\n",
            "774/774 [==============================] - 7s 10ms/step - loss: 3.8314e-04 - accuracy: 0.9999 - val_loss: 0.1504 - val_accuracy: 0.9651\n",
            "Epoch 17/150\n",
            "774/774 [==============================] - 7s 9ms/step - loss: 3.4989e-04 - accuracy: 0.9999 - val_loss: 0.1855 - val_accuracy: 0.9678\n",
            "Epoch 18/150\n",
            "774/774 [==============================] - 7s 9ms/step - loss: 3.4966e-04 - accuracy: 0.9999 - val_loss: 0.1969 - val_accuracy: 0.9651\n",
            "Epoch 19/150\n",
            "774/774 [==============================] - 8s 10ms/step - loss: 3.4841e-04 - accuracy: 0.9997 - val_loss: 0.2161 - val_accuracy: 0.9639\n",
            "Epoch 20/150\n",
            "774/774 [==============================] - 8s 10ms/step - loss: 3.2459e-04 - accuracy: 0.9999 - val_loss: 0.2175 - val_accuracy: 0.9636\n",
            "Epoch 21/150\n",
            "774/774 [==============================] - 8s 10ms/step - loss: 3.4612e-04 - accuracy: 0.9997 - val_loss: 0.2242 - val_accuracy: 0.9632\n",
            "Epoch 22/150\n",
            "774/774 [==============================] - 7s 10ms/step - loss: 3.2409e-04 - accuracy: 0.9999 - val_loss: 0.2427 - val_accuracy: 0.9632\n",
            "Epoch 23/150\n",
            "774/774 [==============================] - 7s 9ms/step - loss: 2.6941e-04 - accuracy: 0.9999 - val_loss: 0.2574 - val_accuracy: 0.9570\n",
            "Epoch 24/150\n",
            "774/774 [==============================] - 7s 9ms/step - loss: 3.1000e-04 - accuracy: 0.9997 - val_loss: 0.2369 - val_accuracy: 0.9554\n",
            "Epoch 25/150\n",
            "774/774 [==============================] - 6s 8ms/step - loss: 2.6079e-04 - accuracy: 0.9999 - val_loss: 0.2639 - val_accuracy: 0.9604\n",
            "Epoch 26/150\n",
            "774/774 [==============================] - 5s 7ms/step - loss: 3.1572e-04 - accuracy: 0.9999 - val_loss: 0.2504 - val_accuracy: 0.9620\n",
            "Epoch 27/150\n",
            "774/774 [==============================] - 6s 7ms/step - loss: 3.2371e-04 - accuracy: 0.9999 - val_loss: 0.2565 - val_accuracy: 0.9601\n",
            "Epoch 28/150\n",
            "774/774 [==============================] - 7s 9ms/step - loss: 2.8945e-04 - accuracy: 0.9999 - val_loss: 0.2727 - val_accuracy: 0.9612\n",
            "Epoch 29/150\n",
            "774/774 [==============================] - 7s 9ms/step - loss: 3.0570e-04 - accuracy: 0.9997 - val_loss: 0.2703 - val_accuracy: 0.9624\n",
            "Epoch 30/150\n",
            "774/774 [==============================] - 7s 9ms/step - loss: 2.9289e-04 - accuracy: 0.9999 - val_loss: 0.2238 - val_accuracy: 0.9608\n",
            "Epoch 31/150\n",
            "774/774 [==============================] - 7s 9ms/step - loss: 3.1588e-04 - accuracy: 0.9997 - val_loss: 0.2494 - val_accuracy: 0.9604\n",
            "Epoch 32/150\n",
            "774/774 [==============================] - 7s 9ms/step - loss: 2.9913e-04 - accuracy: 0.9997 - val_loss: 0.2839 - val_accuracy: 0.9616\n",
            "Epoch 33/150\n",
            "774/774 [==============================] - 7s 10ms/step - loss: 2.9447e-04 - accuracy: 0.9999 - val_loss: 0.2723 - val_accuracy: 0.9628\n",
            "Epoch 34/150\n",
            "774/774 [==============================] - 7s 9ms/step - loss: 2.8560e-04 - accuracy: 0.9999 - val_loss: 0.2704 - val_accuracy: 0.9628\n",
            "Epoch 35/150\n",
            "774/774 [==============================] - 7s 9ms/step - loss: 2.9289e-04 - accuracy: 0.9999 - val_loss: 0.1952 - val_accuracy: 0.9659\n",
            "Epoch 36/150\n",
            "774/774 [==============================] - 7s 9ms/step - loss: 2.9866e-04 - accuracy: 0.9999 - val_loss: 0.2087 - val_accuracy: 0.9628\n",
            "Epoch 37/150\n",
            "774/774 [==============================] - 7s 9ms/step - loss: 2.7940e-04 - accuracy: 0.9999 - val_loss: 0.2621 - val_accuracy: 0.9632\n",
            "Epoch 38/150\n",
            "774/774 [==============================] - 7s 9ms/step - loss: 2.8955e-04 - accuracy: 0.9999 - val_loss: 0.2453 - val_accuracy: 0.9624\n",
            "Epoch 39/150\n",
            "774/774 [==============================] - 7s 9ms/step - loss: 2.8692e-04 - accuracy: 0.9999 - val_loss: 0.2732 - val_accuracy: 0.9624\n",
            "Epoch 40/150\n",
            "774/774 [==============================] - 7s 9ms/step - loss: 2.9186e-04 - accuracy: 0.9997 - val_loss: 0.2235 - val_accuracy: 0.9659\n",
            "Epoch 41/150\n",
            "774/774 [==============================] - 7s 9ms/step - loss: 2.8623e-04 - accuracy: 0.9999 - val_loss: 0.2195 - val_accuracy: 0.9643\n",
            "Epoch 42/150\n",
            "774/774 [==============================] - 7s 10ms/step - loss: 2.7331e-04 - accuracy: 0.9999 - val_loss: 0.2565 - val_accuracy: 0.9616\n",
            "Epoch 43/150\n",
            "774/774 [==============================] - 7s 9ms/step - loss: 3.0557e-04 - accuracy: 0.9997 - val_loss: 0.2630 - val_accuracy: 0.9632\n",
            "Epoch 44/150\n",
            "774/774 [==============================] - 7s 10ms/step - loss: 3.0191e-04 - accuracy: 0.9997 - val_loss: 0.2721 - val_accuracy: 0.9624\n",
            "Epoch 45/150\n",
            "774/774 [==============================] - 7s 10ms/step - loss: 1.9941e-04 - accuracy: 0.9999 - val_loss: 0.2762 - val_accuracy: 0.9624\n",
            "Epoch 46/150\n",
            "774/774 [==============================] - 7s 9ms/step - loss: 2.9938e-04 - accuracy: 0.9999 - val_loss: 0.2743 - val_accuracy: 0.9624\n",
            "Epoch 47/150\n",
            "774/774 [==============================] - 7s 10ms/step - loss: 2.6779e-04 - accuracy: 0.9997 - val_loss: 0.2769 - val_accuracy: 0.9624\n",
            "Epoch 48/150\n",
            "774/774 [==============================] - 7s 10ms/step - loss: 2.9075e-04 - accuracy: 0.9997 - val_loss: 0.2264 - val_accuracy: 0.9655\n",
            "Epoch 49/150\n",
            "774/774 [==============================] - 7s 9ms/step - loss: 2.9524e-04 - accuracy: 0.9997 - val_loss: 0.2838 - val_accuracy: 0.9639\n",
            "Epoch 50/150\n",
            "774/774 [==============================] - 7s 9ms/step - loss: 2.6434e-04 - accuracy: 0.9997 - val_loss: 0.2561 - val_accuracy: 0.9647\n",
            "Epoch 51/150\n",
            "774/774 [==============================] - 7s 9ms/step - loss: 2.9269e-04 - accuracy: 0.9999 - val_loss: 0.2219 - val_accuracy: 0.9647\n",
            "Epoch 52/150\n",
            "774/774 [==============================] - 8s 10ms/step - loss: 2.9690e-04 - accuracy: 0.9997 - val_loss: 0.2420 - val_accuracy: 0.9651\n",
            "Epoch 53/150\n",
            "774/774 [==============================] - 5s 6ms/step - loss: 2.7602e-04 - accuracy: 0.9997 - val_loss: 0.2087 - val_accuracy: 0.9651\n",
            "Epoch 54/150\n",
            "774/774 [==============================] - 5s 6ms/step - loss: 2.8157e-04 - accuracy: 0.9997 - val_loss: 0.2232 - val_accuracy: 0.9651\n",
            "Epoch 55/150\n",
            "774/774 [==============================] - 4s 5ms/step - loss: 2.1685e-04 - accuracy: 0.9999 - val_loss: 0.2857 - val_accuracy: 0.9632\n",
            "Epoch 56/150\n",
            "774/774 [==============================] - 4s 5ms/step - loss: 2.3206e-04 - accuracy: 0.9997 - val_loss: 0.2787 - val_accuracy: 0.9628\n",
            "Epoch 57/150\n",
            "774/774 [==============================] - 5s 6ms/step - loss: 2.8797e-04 - accuracy: 0.9999 - val_loss: 0.2830 - val_accuracy: 0.9647\n",
            "Epoch 58/150\n",
            "774/774 [==============================] - 5s 6ms/step - loss: 2.8845e-04 - accuracy: 0.9997 - val_loss: 0.2001 - val_accuracy: 0.9678\n",
            "Epoch 59/150\n",
            "774/774 [==============================] - 7s 10ms/step - loss: 3.0268e-04 - accuracy: 0.9997 - val_loss: 0.2067 - val_accuracy: 0.9667\n",
            "Epoch 60/150\n",
            "774/774 [==============================] - 8s 10ms/step - loss: 2.6619e-04 - accuracy: 0.9997 - val_loss: 0.2423 - val_accuracy: 0.9674\n",
            "Epoch 61/150\n",
            "774/774 [==============================] - 7s 9ms/step - loss: 2.7569e-04 - accuracy: 0.9997 - val_loss: 0.2382 - val_accuracy: 0.9670\n",
            "Epoch 62/150\n",
            "774/774 [==============================] - 7s 9ms/step - loss: 2.6810e-04 - accuracy: 0.9999 - val_loss: 0.1922 - val_accuracy: 0.9674\n",
            "Epoch 63/150\n",
            "774/774 [==============================] - 7s 9ms/step - loss: 2.7042e-04 - accuracy: 0.9999 - val_loss: 0.2592 - val_accuracy: 0.9651\n",
            "Epoch 64/150\n",
            "774/774 [==============================] - 7s 9ms/step - loss: 2.6827e-04 - accuracy: 0.9999 - val_loss: 0.2247 - val_accuracy: 0.9659\n",
            "Epoch 65/150\n",
            "774/774 [==============================] - 7s 9ms/step - loss: 2.7085e-04 - accuracy: 0.9997 - val_loss: 0.1903 - val_accuracy: 0.9682\n",
            "Epoch 66/150\n",
            "774/774 [==============================] - 7s 9ms/step - loss: 2.7579e-04 - accuracy: 0.9999 - val_loss: 0.2954 - val_accuracy: 0.9636\n",
            "Epoch 67/150\n",
            "774/774 [==============================] - 7s 9ms/step - loss: 2.6042e-04 - accuracy: 0.9999 - val_loss: 0.1846 - val_accuracy: 0.9694\n",
            "Epoch 68/150\n",
            "774/774 [==============================] - 7s 9ms/step - loss: 2.6492e-04 - accuracy: 0.9997 - val_loss: 0.1972 - val_accuracy: 0.9682\n",
            "Epoch 69/150\n",
            "774/774 [==============================] - 7s 9ms/step - loss: 2.7194e-04 - accuracy: 0.9999 - val_loss: 0.2515 - val_accuracy: 0.9651\n",
            "Epoch 70/150\n",
            "774/774 [==============================] - 8s 10ms/step - loss: 2.7673e-04 - accuracy: 0.9997 - val_loss: 0.2017 - val_accuracy: 0.9682\n",
            "Epoch 71/150\n",
            "774/774 [==============================] - 7s 9ms/step - loss: 2.8690e-04 - accuracy: 0.9999 - val_loss: 0.2704 - val_accuracy: 0.9655\n",
            "Epoch 72/150\n",
            "774/774 [==============================] - 7s 9ms/step - loss: 2.7004e-04 - accuracy: 0.9997 - val_loss: 0.1742 - val_accuracy: 0.9701\n",
            "Epoch 73/150\n",
            "774/774 [==============================] - 7s 9ms/step - loss: 2.6518e-04 - accuracy: 0.9997 - val_loss: 0.1928 - val_accuracy: 0.9709\n",
            "Epoch 74/150\n",
            "774/774 [==============================] - 7s 10ms/step - loss: 2.7395e-04 - accuracy: 0.9997 - val_loss: 0.2118 - val_accuracy: 0.9694\n",
            "Epoch 75/150\n",
            "774/774 [==============================] - 7s 9ms/step - loss: 2.8431e-04 - accuracy: 0.9999 - val_loss: 0.1862 - val_accuracy: 0.9709\n",
            "Epoch 76/150\n",
            "774/774 [==============================] - 7s 9ms/step - loss: 2.3558e-04 - accuracy: 0.9997 - val_loss: 0.2036 - val_accuracy: 0.9701\n",
            "Epoch 77/150\n",
            "774/774 [==============================] - 7s 9ms/step - loss: 2.5379e-04 - accuracy: 0.9999 - val_loss: 0.1745 - val_accuracy: 0.9701\n",
            "Epoch 78/150\n",
            "774/774 [==============================] - 8s 10ms/step - loss: 2.4002e-04 - accuracy: 0.9997 - val_loss: 0.2058 - val_accuracy: 0.9705\n",
            "Epoch 79/150\n",
            "774/774 [==============================] - 7s 10ms/step - loss: 2.4236e-04 - accuracy: 0.9999 - val_loss: 0.2126 - val_accuracy: 0.9698\n",
            "Epoch 80/150\n",
            "774/774 [==============================] - 7s 9ms/step - loss: 2.4498e-04 - accuracy: 0.9999 - val_loss: 0.2920 - val_accuracy: 0.9655\n",
            "Epoch 81/150\n",
            "774/774 [==============================] - 8s 10ms/step - loss: 2.5504e-04 - accuracy: 0.9997 - val_loss: 0.2459 - val_accuracy: 0.9667\n",
            "Epoch 82/150\n",
            "774/774 [==============================] - 7s 9ms/step - loss: 2.6588e-04 - accuracy: 0.9997 - val_loss: 0.2143 - val_accuracy: 0.9686\n",
            "Epoch 83/150\n",
            "774/774 [==============================] - 8s 10ms/step - loss: 2.4107e-04 - accuracy: 0.9999 - val_loss: 0.1843 - val_accuracy: 0.9701\n",
            "Epoch 84/150\n",
            "774/774 [==============================] - 7s 10ms/step - loss: 2.4519e-04 - accuracy: 0.9997 - val_loss: 0.2064 - val_accuracy: 0.9686\n",
            "Epoch 85/150\n",
            "774/774 [==============================] - 7s 9ms/step - loss: 2.5446e-04 - accuracy: 0.9999 - val_loss: 0.2625 - val_accuracy: 0.9655\n",
            "Epoch 86/150\n",
            "774/774 [==============================] - 7s 9ms/step - loss: 2.4253e-04 - accuracy: 0.9999 - val_loss: 0.2294 - val_accuracy: 0.9667\n",
            "Epoch 87/150\n",
            "774/774 [==============================] - 7s 9ms/step - loss: 2.9461e-04 - accuracy: 0.9999 - val_loss: 0.3427 - val_accuracy: 0.9636\n",
            "Epoch 88/150\n",
            "774/774 [==============================] - 7s 9ms/step - loss: 2.6200e-04 - accuracy: 0.9999 - val_loss: 0.1625 - val_accuracy: 0.9705\n",
            "Epoch 89/150\n",
            "774/774 [==============================] - 8s 10ms/step - loss: 2.6544e-04 - accuracy: 0.9997 - val_loss: 0.1701 - val_accuracy: 0.9694\n",
            "Epoch 90/150\n",
            "774/774 [==============================] - 7s 10ms/step - loss: 2.4116e-04 - accuracy: 0.9999 - val_loss: 0.1971 - val_accuracy: 0.9705\n",
            "Epoch 91/150\n",
            "774/774 [==============================] - 7s 10ms/step - loss: 2.5576e-04 - accuracy: 0.9997 - val_loss: 0.2063 - val_accuracy: 0.9694\n",
            "Epoch 92/150\n",
            "774/774 [==============================] - 7s 9ms/step - loss: 2.6470e-04 - accuracy: 0.9997 - val_loss: 0.2234 - val_accuracy: 0.9690\n",
            "Epoch 93/150\n",
            "774/774 [==============================] - 8s 10ms/step - loss: 2.7056e-04 - accuracy: 0.9997 - val_loss: 0.2104 - val_accuracy: 0.9694\n",
            "Epoch 94/150\n",
            "774/774 [==============================] - 8s 10ms/step - loss: 2.6187e-04 - accuracy: 0.9997 - val_loss: 0.2698 - val_accuracy: 0.9655\n",
            "Epoch 95/150\n",
            "774/774 [==============================] - 8s 10ms/step - loss: 2.5589e-04 - accuracy: 0.9999 - val_loss: 0.1714 - val_accuracy: 0.9705\n",
            "Epoch 96/150\n",
            "774/774 [==============================] - 7s 9ms/step - loss: 2.6449e-04 - accuracy: 0.9997 - val_loss: 0.1796 - val_accuracy: 0.9705\n",
            "Epoch 97/150\n",
            "774/774 [==============================] - 8s 10ms/step - loss: 2.3885e-04 - accuracy: 0.9997 - val_loss: 0.1728 - val_accuracy: 0.9701\n",
            "Epoch 98/150\n",
            "774/774 [==============================] - 8s 10ms/step - loss: 2.5215e-04 - accuracy: 0.9997 - val_loss: 0.2004 - val_accuracy: 0.9686\n",
            "Epoch 99/150\n",
            "774/774 [==============================] - 8s 10ms/step - loss: 2.4172e-04 - accuracy: 0.9997 - val_loss: 0.2180 - val_accuracy: 0.9667\n",
            "Epoch 100/150\n",
            "774/774 [==============================] - 7s 10ms/step - loss: 2.4733e-04 - accuracy: 0.9997 - val_loss: 0.1845 - val_accuracy: 0.9701\n",
            "Epoch 101/150\n",
            "774/774 [==============================] - 7s 10ms/step - loss: 2.5643e-04 - accuracy: 0.9997 - val_loss: 0.1952 - val_accuracy: 0.9686\n",
            "Epoch 102/150\n",
            "774/774 [==============================] - 8s 10ms/step - loss: 2.4538e-04 - accuracy: 0.9997 - val_loss: 0.1772 - val_accuracy: 0.9705\n",
            "Epoch 103/150\n",
            "774/774 [==============================] - 7s 10ms/step - loss: 2.4366e-04 - accuracy: 0.9999 - val_loss: 0.2815 - val_accuracy: 0.9663\n",
            "Epoch 104/150\n",
            "774/774 [==============================] - 7s 9ms/step - loss: 2.4346e-04 - accuracy: 0.9997 - val_loss: 0.2670 - val_accuracy: 0.9678\n",
            "Epoch 105/150\n",
            "774/774 [==============================] - 8s 10ms/step - loss: 2.4447e-04 - accuracy: 0.9997 - val_loss: 0.2771 - val_accuracy: 0.9670\n",
            "Epoch 106/150\n",
            "774/774 [==============================] - 7s 10ms/step - loss: 2.3959e-04 - accuracy: 0.9997 - val_loss: 0.3094 - val_accuracy: 0.9670\n",
            "Epoch 107/150\n",
            "774/774 [==============================] - 8s 10ms/step - loss: 2.4925e-04 - accuracy: 0.9997 - val_loss: 0.2395 - val_accuracy: 0.9690\n",
            "Epoch 108/150\n",
            "774/774 [==============================] - 8s 10ms/step - loss: 2.4232e-04 - accuracy: 0.9999 - val_loss: 0.1819 - val_accuracy: 0.9701\n",
            "Epoch 109/150\n",
            "774/774 [==============================] - 5s 6ms/step - loss: 2.4269e-04 - accuracy: 0.9997 - val_loss: 0.1956 - val_accuracy: 0.9701\n",
            "Epoch 110/150\n",
            "774/774 [==============================] - 4s 6ms/step - loss: 2.7208e-04 - accuracy: 0.9997 - val_loss: 0.1930 - val_accuracy: 0.9698\n",
            "Epoch 111/150\n",
            "774/774 [==============================] - 5s 6ms/step - loss: 2.5182e-04 - accuracy: 0.9999 - val_loss: 0.2896 - val_accuracy: 0.9655\n",
            "Epoch 112/150\n",
            "774/774 [==============================] - 5s 6ms/step - loss: 2.5016e-04 - accuracy: 0.9997 - val_loss: 0.2842 - val_accuracy: 0.9663\n",
            "Epoch 113/150\n",
            "774/774 [==============================] - 5s 7ms/step - loss: 2.6456e-04 - accuracy: 0.9997 - val_loss: 0.2586 - val_accuracy: 0.9678\n",
            "Epoch 114/150\n",
            "774/774 [==============================] - 6s 8ms/step - loss: 2.5495e-04 - accuracy: 0.9999 - val_loss: 0.1714 - val_accuracy: 0.9717\n",
            "Epoch 115/150\n",
            "774/774 [==============================] - 8s 10ms/step - loss: 2.4727e-04 - accuracy: 0.9999 - val_loss: 0.2052 - val_accuracy: 0.9709\n",
            "Epoch 116/150\n",
            "774/774 [==============================] - 7s 9ms/step - loss: 2.5829e-04 - accuracy: 0.9999 - val_loss: 0.1760 - val_accuracy: 0.9709\n",
            "Epoch 117/150\n",
            "774/774 [==============================] - 7s 9ms/step - loss: 2.4505e-04 - accuracy: 0.9999 - val_loss: 0.2769 - val_accuracy: 0.9655\n",
            "Epoch 118/150\n",
            "774/774 [==============================] - 7s 9ms/step - loss: 2.4955e-04 - accuracy: 0.9997 - val_loss: 0.2686 - val_accuracy: 0.9659\n",
            "Epoch 119/150\n",
            "774/774 [==============================] - 8s 10ms/step - loss: 2.5405e-04 - accuracy: 0.9997 - val_loss: 0.2774 - val_accuracy: 0.9659\n",
            "Epoch 120/150\n",
            "774/774 [==============================] - 7s 9ms/step - loss: 2.5542e-04 - accuracy: 0.9999 - val_loss: 0.1672 - val_accuracy: 0.9725\n",
            "Epoch 121/150\n",
            "774/774 [==============================] - 7s 9ms/step - loss: 2.2629e-04 - accuracy: 0.9997 - val_loss: 0.1853 - val_accuracy: 0.9713\n",
            "Epoch 122/150\n",
            "774/774 [==============================] - 8s 10ms/step - loss: 2.4068e-04 - accuracy: 0.9999 - val_loss: 0.1738 - val_accuracy: 0.9721\n",
            "Epoch 123/150\n",
            "774/774 [==============================] - 8s 10ms/step - loss: 2.2701e-04 - accuracy: 0.9999 - val_loss: 0.2102 - val_accuracy: 0.9701\n",
            "Epoch 124/150\n",
            "774/774 [==============================] - 7s 9ms/step - loss: 2.3840e-04 - accuracy: 0.9997 - val_loss: 0.2503 - val_accuracy: 0.9670\n",
            "Epoch 125/150\n",
            "774/774 [==============================] - 8s 10ms/step - loss: 2.3313e-04 - accuracy: 0.9997 - val_loss: 0.3041 - val_accuracy: 0.9647\n",
            "Epoch 126/150\n",
            "774/774 [==============================] - 8s 10ms/step - loss: 2.3689e-04 - accuracy: 0.9999 - val_loss: 0.1615 - val_accuracy: 0.9729\n",
            "Epoch 127/150\n",
            "774/774 [==============================] - 8s 10ms/step - loss: 2.2479e-04 - accuracy: 0.9999 - val_loss: 0.1820 - val_accuracy: 0.9717\n",
            "Epoch 128/150\n",
            "774/774 [==============================] - 8s 10ms/step - loss: 2.3895e-04 - accuracy: 0.9997 - val_loss: 0.1653 - val_accuracy: 0.9713\n",
            "Epoch 129/150\n",
            "774/774 [==============================] - 7s 10ms/step - loss: 2.3404e-04 - accuracy: 0.9997 - val_loss: 0.1981 - val_accuracy: 0.9709\n",
            "Epoch 130/150\n",
            "774/774 [==============================] - 7s 9ms/step - loss: 2.3247e-04 - accuracy: 0.9999 - val_loss: 0.2129 - val_accuracy: 0.9698\n",
            "Epoch 131/150\n",
            "774/774 [==============================] - 7s 10ms/step - loss: 2.2631e-04 - accuracy: 0.9999 - val_loss: 0.2608 - val_accuracy: 0.9670\n",
            "Epoch 132/150\n",
            "774/774 [==============================] - 7s 9ms/step - loss: 2.2862e-04 - accuracy: 0.9997 - val_loss: 0.2191 - val_accuracy: 0.9698\n",
            "Epoch 133/150\n",
            "774/774 [==============================] - 7s 10ms/step - loss: 2.2656e-04 - accuracy: 0.9997 - val_loss: 0.2203 - val_accuracy: 0.9690\n",
            "Epoch 134/150\n",
            "774/774 [==============================] - 8s 10ms/step - loss: 2.3110e-04 - accuracy: 0.9997 - val_loss: 0.2204 - val_accuracy: 0.9686\n",
            "Epoch 135/150\n",
            "774/774 [==============================] - 7s 9ms/step - loss: 2.3173e-04 - accuracy: 0.9997 - val_loss: 0.2415 - val_accuracy: 0.9674\n",
            "Epoch 136/150\n",
            "774/774 [==============================] - 7s 10ms/step - loss: 2.3671e-04 - accuracy: 0.9999 - val_loss: 0.1769 - val_accuracy: 0.9721\n",
            "Epoch 137/150\n",
            "774/774 [==============================] - 7s 9ms/step - loss: 2.2855e-04 - accuracy: 0.9997 - val_loss: 0.1864 - val_accuracy: 0.9721\n",
            "Epoch 138/150\n",
            "774/774 [==============================] - 7s 9ms/step - loss: 2.2220e-04 - accuracy: 0.9999 - val_loss: 0.2438 - val_accuracy: 0.9674\n",
            "Epoch 139/150\n",
            "774/774 [==============================] - 7s 9ms/step - loss: 2.3103e-04 - accuracy: 0.9997 - val_loss: 0.2346 - val_accuracy: 0.9670\n",
            "Epoch 140/150\n",
            "774/774 [==============================] - 8s 10ms/step - loss: 2.2310e-04 - accuracy: 0.9999 - val_loss: 0.1821 - val_accuracy: 0.9725\n",
            "Epoch 141/150\n",
            "774/774 [==============================] - 7s 9ms/step - loss: 2.2110e-04 - accuracy: 0.9999 - val_loss: 0.2302 - val_accuracy: 0.9694\n",
            "Epoch 142/150\n",
            "774/774 [==============================] - 7s 9ms/step - loss: 2.3000e-04 - accuracy: 0.9999 - val_loss: 0.1809 - val_accuracy: 0.9725\n",
            "Epoch 143/150\n",
            "774/774 [==============================] - 7s 10ms/step - loss: 2.2688e-04 - accuracy: 0.9999 - val_loss: 0.2062 - val_accuracy: 0.9709\n",
            "Epoch 144/150\n",
            "774/774 [==============================] - 8s 10ms/step - loss: 2.2688e-04 - accuracy: 0.9999 - val_loss: 0.2220 - val_accuracy: 0.9709\n",
            "Epoch 145/150\n",
            "774/774 [==============================] - 7s 9ms/step - loss: 2.2944e-04 - accuracy: 0.9999 - val_loss: 0.2056 - val_accuracy: 0.9713\n",
            "Epoch 146/150\n",
            "774/774 [==============================] - 7s 9ms/step - loss: 2.4194e-04 - accuracy: 0.9999 - val_loss: 0.2488 - val_accuracy: 0.9686\n",
            "Epoch 147/150\n",
            "774/774 [==============================] - 7s 9ms/step - loss: 2.2900e-04 - accuracy: 0.9997 - val_loss: 0.2016 - val_accuracy: 0.9709\n",
            "Epoch 148/150\n",
            "774/774 [==============================] - 7s 10ms/step - loss: 2.1722e-04 - accuracy: 0.9999 - val_loss: 0.2595 - val_accuracy: 0.9686\n",
            "Epoch 149/150\n",
            "774/774 [==============================] - 7s 9ms/step - loss: 2.2239e-04 - accuracy: 0.9997 - val_loss: 0.2808 - val_accuracy: 0.9670\n",
            "Epoch 150/150\n",
            "774/774 [==============================] - 8s 10ms/step - loss: 2.2075e-04 - accuracy: 0.9997 - val_loss: 0.2805 - val_accuracy: 0.9670\n"
          ]
        }
      ]
    },
    {
      "cell_type": "markdown",
      "source": [
        "##P4. viendo grafica de entrenamiento"
      ],
      "metadata": {
        "id": "8p90V_q-Lv3K"
      }
    },
    {
      "cell_type": "code",
      "source": [
        "import matplotlib.pyplot as plt\n",
        "plt.style.use('ggplot') # \n",
        "\n",
        "def plot_history(history):\n",
        "    acc = history.history['accuracy']\n",
        "    val_acc = history.history['val_accuracy']\n",
        "    loss = history.history['loss']\n",
        "    val_loss = history.history['val_loss']\n",
        "    x = range(1, len(acc) + 1)\n",
        "    plt.figure(figsize=(12, 5))\n",
        "    plt.subplot(1, 2, 1)\n",
        "    plt.plot(x, acc, 'b', label='Validacion prec')\n",
        "    plt.plot(x, val_acc, 'r', label='Entrenamiento prec')\n",
        "    plt.title('Precision Validacion y Entrenamiento')\n",
        "    plt.legend()\n",
        "    plt.subplot(1, 2, 2)\n",
        "    plt.plot(x, loss, 'b', label='Perdida Validacion')\n",
        "    plt.plot(x, val_loss, 'r', label='Perdida Entrenamiento')\n",
        "    plt.title('Perdida Validacion y Entrenamiento')\n",
        "    plt.legend()\n",
        "    plt.show()\n",
        "plot_history(history)"
      ],
      "metadata": {
        "colab": {
          "base_uri": "https://localhost:8080/",
          "height": 337
        },
        "id": "oqAJq84OLzdQ",
        "outputId": "db453990-04e2-4ade-f455-ecde5bc78da7"
      },
      "execution_count": null,
      "outputs": [
        {
          "output_type": "display_data",
          "data": {
            "text/plain": [
              "<Figure size 864x360 with 2 Axes>"
            ],
            "image/png": "[encoded data removed]"
          },
          "metadata": {}
        }
      ]
    },
    {
      "cell_type": "markdown",
      "source": [
        "##P5.evaluar el modelo (presición)"
      ],
      "metadata": {
        "id": "XXwbz6UjMWti"
      }
    },
    {
      "cell_type": "code",
      "source": [
        "loss, accuracy = model.evaluate(X_train, y_train, verbose=False)\n",
        "print(\"Precisión Prueba: {:.4f}\".format(accuracy))\n",
        "loss, accuracy = model.evaluate(X_test, y_test, verbose=False)\n",
        "print(\"Precisión Entrenamiento:  {:.4f}\".format(accuracy))"
      ],
      "metadata": {
        "colab": {
          "base_uri": "https://localhost:8080/"
        },
        "id": "3WHd465MMaGc",
        "outputId": "f826e871-7aad-490e-e8fe-25176091db58"
      },
      "execution_count": null,
      "outputs": [
        {
          "output_type": "stream",
          "name": "stdout",
          "text": [
            "Precisión Prueba: 0.9999\n",
            "Precisión Entrenamiento:  0.9670\n"
          ]
        }
      ]
    },
    {
      "cell_type": "markdown",
      "source": [
        "##P6. haciendo predicciones"
      ],
      "metadata": {
        "id": "7DJJvRY5OyPg"
      }
    },
    {
      "cell_type": "code",
      "source": [
        "oracion = ['I love spontaneous road trips']\n",
        "X_prueba = vectorizerNew.transform(oracion)  #convertimos la oración al array del bagword\n",
        "\n",
        "#print('vector:',X_prueba[0].toarray())\n",
        "predict=model.predict(X_prueba)\n",
        "print(oracion,', The sentiment is :',predict)"
      ],
      "metadata": {
        "colab": {
          "base_uri": "https://localhost:8080/"
        },
        "id": "lqknCTruO104",
        "outputId": "7ccbfa45-70c0-4eaa-edc2-c0e1e2a39f2a"
      },
      "execution_count": null,
      "outputs": [
        {
          "output_type": "stream",
          "name": "stdout",
          "text": [
            "['I love spontaneous road trips'] , The sentiment is : [[4.7580258e-07]]\n"
          ]
        }
      ]
    },
    {
      "cell_type": "markdown",
      "source": [
        "##p7.Exportar Modelo y Vocabulario\n"
      ],
      "metadata": {
        "id": "JPM_E_Bv8_b3"
      }
    },
    {
      "cell_type": "code",
      "source": [
        "model.save('PLN_SENTIMENT.h5');"
      ],
      "metadata": {
        "id": "x4w1VEtR9QwG"
      },
      "execution_count": null,
      "outputs": []
    }
  ]
}