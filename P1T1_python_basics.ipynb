{
  "nbformat": 4,
  "nbformat_minor": 0,
  "metadata": {
    "colab": {
      "name": "P1T1_python_basics.ipynb",
      "provenance": [],
      "collapsed_sections": [],
      "toc_visible": true
    },
    "kernelspec": {
      "name": "python3",
      "display_name": "Python 3"
    },
    "language_info": {
      "name": "python"
    }
  },
  "cells": [
    {
      "cell_type": "code",
      "execution_count": null,
      "metadata": {
        "colab": {
          "base_uri": "https://localhost:8080/"
        },
        "id": "EgvCJr3nmobj",
        "outputId": "9aadcf03-1119-494d-8bbf-0ca920379f6a"
      },
      "outputs": [
        {
          "output_type": "stream",
          "name": "stdout",
          "text": [
            "Hola mundo\n"
          ]
        }
      ],
      "source": [
        "print(\"Hola mundo\")"
      ]
    },
    {
      "cell_type": "code",
      "source": [
        ""
      ],
      "metadata": {
        "id": "P0RgiJhcqbm3"
      },
      "execution_count": null,
      "outputs": []
    },
    {
      "cell_type": "markdown",
      "source": [
        "#Descripcion\n"
      ],
      "metadata": {
        "id": "N1DusorOzTNO"
      }
    },
    {
      "cell_type": "markdown",
      "source": [
        "\n",
        "\n",
        "*   @Author: Juan David Duarte Hernandez\n",
        "*   @Data:12/02/22\n",
        "\n",
        "\n",
        "\n",
        "\n"
      ],
      "metadata": {
        "id": "MkiV-g1zzmCE"
      }
    },
    {
      "cell_type": "markdown",
      "source": [
        "#Ejercicios Basicos\n",
        "\n"
      ],
      "metadata": {
        "id": "hVp2AejR0Cie"
      }
    },
    {
      "cell_type": "markdown",
      "source": [
        "#Ejercicio 1: productos+iva"
      ],
      "metadata": {
        "id": "MYZmu6mB0Myt"
      }
    },
    {
      "cell_type": "code",
      "source": [
        "product1= int (input(\"Enter 1 value\"))\n",
        "product2= int (input(\"Enter 2 value\"))\n",
        "product3= int (input(\"Enter 3 value\"))\n",
        "product4= int (input(\"Enter 4 value\"))\n",
        "product5= int (input(\"Enter 5 value\"))\n",
        "suma = (product5+product4+product3+product2+product1)\n",
        "iva =suma*0.19\n",
        "total=suma +iva\n",
        "print(\"valor bruto\",suma,\"\\nIVA\",iva,\"\\nTOTAL\",total)"
      ],
      "metadata": {
        "colab": {
          "base_uri": "https://localhost:8080/"
        },
        "id": "rbk4exRb0ih5",
        "outputId": "686ad747-23d8-4bea-d416-3c33e81efb64"
      },
      "execution_count": null,
      "outputs": [
        {
          "output_type": "stream",
          "name": "stdout",
          "text": [
            "Enter 1 value1\n",
            "Enter 2 value2\n",
            "Enter 3 value3\n",
            "Enter 4 value4\n",
            "Enter 5 value5\n",
            "valor bruto 15 /nIVA 2.85 /nTOTAL 17.85\n"
          ]
        }
      ]
    },
    {
      "cell_type": "markdown",
      "source": [
        "##version python"
      ],
      "metadata": {
        "id": "bZ9uoHgJ3vHw"
      }
    },
    {
      "cell_type": "code",
      "source": [
        "pro1,pro2,pro3,pro4,pro5=input (\"input 1°,2°,3°,4° and 5° product with , separate\").split(\",\")\n",
        "suma=(pro5+pro4+pro3+pro2+pro1)\n",
        "print(\"valor bruto\",suma,\"\\nIVA\",(suma*0,19),\"\\nTOTAL\",(suma+(suma*0,19)))"
      ],
      "metadata": {
        "id": "DhkGZM5Y3y_j"
      },
      "execution_count": null,
      "outputs": []
    },
    {
      "cell_type": "markdown",
      "source": [
        "#Exercise Major, Minor, Average, Array lenght"
      ],
      "metadata": {
        "id": "H_-ikaIi61vR"
      }
    },
    {
      "cell_type": "code",
      "source": [
        "#average\n",
        "num1 = int(input(\"Enter the Number 1: \")) \n",
        "num2 = int(input(\"Enter the Number 2: \")) \n",
        "num3 = int(input(\"Enter the Number 3: \")) \n",
        "average = (sum([num1, num2, num3])) / 3 \n",
        "print (\"the average number is\", average)\n",
        "\n",
        "\n",
        "\n",
        "\n"
      ],
      "metadata": {
        "colab": {
          "base_uri": "https://localhost:8080/"
        },
        "id": "8ojUsaUS3-mq",
        "outputId": "bcbc545d-1945-466a-c8fd-0cee05daa6a5"
      },
      "execution_count": null,
      "outputs": [
        {
          "output_type": "stream",
          "name": "stdout",
          "text": [
            "Enter the Number 1: 19 \n",
            "Enter the Number 2: 22\n",
            "Enter the Number 3: 48\n",
            "the average number is 29.666666666666668\n"
          ]
        }
      ]
    },
    {
      "cell_type": "code",
      "source": [
        "#Major\n",
        "a = [345,231,144]\n",
        "max_num = 0\n",
        "for i in a:\n",
        "    if i > max_num:\n",
        "        max_num = i\n",
        "print(max_num)"
      ],
      "metadata": {
        "colab": {
          "base_uri": "https://localhost:8080/"
        },
        "id": "eySNwEze-7cJ",
        "outputId": "a26bed72-a48e-452a-85a7-b5db77045cc8"
      },
      "execution_count": null,
      "outputs": [
        {
          "output_type": "stream",
          "name": "stdout",
          "text": [
            "345\n"
          ]
        }
      ]
    },
    {
      "cell_type": "code",
      "source": [
        "#Minor\n",
        "a = [412,6,8]\n",
        "min_num = 412\n",
        "for i in a:\n",
        "    if i < min_num:\n",
        "        min_num = i\n",
        "print(min_num)"
      ],
      "metadata": {
        "colab": {
          "base_uri": "https://localhost:8080/"
        },
        "id": "j3YyeLz4AZMR",
        "outputId": "7b9888ea-6333-4bb3-ff38-e52a2fc04f49"
      },
      "execution_count": null,
      "outputs": [
        {
          "output_type": "stream",
          "name": "stdout",
          "text": [
            "6\n"
          ]
        }
      ]
    },
    {
      "cell_type": "code",
      "source": [
        "#Times that appear a number within a list\n",
        "numbers= [25,26,27,28,28,28,29,30]\n",
        "numbers.append\n",
        "\n",
        "\n",
        "\n"
      ],
      "metadata": {
        "colab": {
          "base_uri": "https://localhost:8080/"
        },
        "id": "VE7fbwGrCydW",
        "outputId": "660fa6f4-5940-4b39-83f4-b3b01e61d12b"
      },
      "execution_count": null,
      "outputs": [
        {
          "output_type": "stream",
          "name": "stdout",
          "text": [
            "[[2.]\n",
            " [3.]]\n"
          ]
        }
      ]
    }
  ]
}